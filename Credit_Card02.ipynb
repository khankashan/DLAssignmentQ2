{
  "nbformat": 4,
  "nbformat_minor": 0,
  "metadata": {
    "colab": {
      "name": "Credit_Card02.ipynb",
      "provenance": [],
      "collapsed_sections": []
    },
    "kernelspec": {
      "name": "python3",
      "display_name": "Python 3"
    },
    "language_info": {
      "name": "python"
    }
  },
  "cells": [
    {
      "cell_type": "code",
      "metadata": {
        "id": "-9bie66bCDMb"
      },
      "source": [
        ""
      ],
      "execution_count": null,
      "outputs": []
    },
    {
      "cell_type": "markdown",
      "metadata": {
        "id": "ciKYrAV5DOJa"
      },
      "source": [
        "**Credit_Card**"
      ]
    },
    {
      "cell_type": "code",
      "metadata": {
        "id": "aXB9pjqyDQiP"
      },
      "source": [
        "import tensorflow as tf\n",
        "import pandas as pd\n",
        "import numpy as np\n",
        "import matplotlib.pyplot as plt\n",
        "from keras import models\n",
        "from keras import layers\n",
        "from sklearn.model_selection import train_test_split"
      ],
      "execution_count": null,
      "outputs": []
    },
    {
      "cell_type": "markdown",
      "metadata": {
        "id": "8XcWZyKjCHMe"
      },
      "source": [
        ""
      ]
    },
    {
      "cell_type": "code",
      "metadata": {
        "colab": {
          "base_uri": "https://localhost:8080/"
        },
        "id": "7VRM4y0TD4NR",
        "outputId": "ba865c5c-8ce3-4e27-adce-d61ea8db6267"
      },
      "source": [
        "cd /content/drive/MyDrive/DeepLearningAssignment/"
      ],
      "execution_count": null,
      "outputs": [
        {
          "output_type": "stream",
          "text": [
            "/content/drive/MyDrive/DeepLearningAssignment\n"
          ],
          "name": "stdout"
        }
      ]
    },
    {
      "cell_type": "code",
      "metadata": {
        "id": "HGYi17DaD7Si"
      },
      "source": [
        "df = pd.read_csv('./creditcard.csv')"
      ],
      "execution_count": null,
      "outputs": []
    },
    {
      "cell_type": "code",
      "metadata": {
        "colab": {
          "base_uri": "https://localhost:8080/"
        },
        "id": "-gPhk0WGIgFU",
        "outputId": "64c9f1eb-edf5-495a-8c9d-1f88bf8b0a45"
      },
      "source": [
        "non_fraud=df[df[\"Class\"]==0]\n",
        "fraud = df[df[\"Class\"]==1]\n",
        "non_fraud.shape, fraud.shape"
      ],
      "execution_count": null,
      "outputs": [
        {
          "output_type": "execute_result",
          "data": {
            "text/plain": [
              "((284315, 31), (492, 31))"
            ]
          },
          "metadata": {
            "tags": []
          },
          "execution_count": 6
        }
      ]
    },
    {
      "cell_type": "code",
      "metadata": {
        "colab": {
          "base_uri": "https://localhost:8080/"
        },
        "id": "P8p6WbVsImbr",
        "outputId": "067e5c54-de8a-4b0d-b034-943de68b4e82"
      },
      "source": [
        "non_fraud=non_fraud.sample(fraud.shape[0])\n",
        "non_fraud.shape"
      ],
      "execution_count": null,
      "outputs": [
        {
          "output_type": "execute_result",
          "data": {
            "text/plain": [
              "(492, 31)"
            ]
          },
          "metadata": {
            "tags": []
          },
          "execution_count": 7
        }
      ]
    },
    {
      "cell_type": "code",
      "metadata": {
        "colab": {
          "base_uri": "https://localhost:8080/"
        },
        "id": "2RTifWN4IqTo",
        "outputId": "b937298e-2853-49fe-d349-85213cd00c53"
      },
      "source": [
        "data = fraud.append(non_fraud, ignore_index=True)\n",
        "data.shape\n",
        "data[\"Class\"].value_counts()"
      ],
      "execution_count": null,
      "outputs": [
        {
          "output_type": "execute_result",
          "data": {
            "text/plain": [
              "1    492\n",
              "0    492\n",
              "Name: Class, dtype: int64"
            ]
          },
          "metadata": {
            "tags": []
          },
          "execution_count": 8
        }
      ]
    },
    {
      "cell_type": "code",
      "metadata": {
        "id": "xG3K9jgxIuWY"
      },
      "source": [
        "x_data= data.drop(columns=\"Class\", axis=0)\n",
        "label = data[\"Class\"]"
      ],
      "execution_count": null,
      "outputs": []
    },
    {
      "cell_type": "code",
      "metadata": {
        "id": "ya-7Y_SxIz6R"
      },
      "source": [
        "train_data, test_data, train_labels, test_labels=train_test_split(x_data, label, test_size=0.3, random_state=0, stratify = label)"
      ],
      "execution_count": null,
      "outputs": []
    },
    {
      "cell_type": "code",
      "metadata": {
        "colab": {
          "base_uri": "https://localhost:8080/"
        },
        "id": "EP1rbzH7I9jz",
        "outputId": "fedba1f6-842c-46dc-b084-f7f74fde8f44"
      },
      "source": [
        "train_data.shape, test_data.shape"
      ],
      "execution_count": null,
      "outputs": [
        {
          "output_type": "execute_result",
          "data": {
            "text/plain": [
              "((688, 30), (296, 30))"
            ]
          },
          "metadata": {
            "tags": []
          },
          "execution_count": 13
        }
      ]
    },
    {
      "cell_type": "code",
      "metadata": {
        "id": "j3PoJQGrJEJE"
      },
      "source": [
        "mean=train_data.mean(axis=0)\n",
        "std=train_data.std(axis=0)\n",
        "train_data = (train_data-mean)/std\n",
        "test_data = (test_data-mean)/std"
      ],
      "execution_count": null,
      "outputs": []
    },
    {
      "cell_type": "code",
      "metadata": {
        "id": "o2q0xzEPJHOK"
      },
      "source": [
        "train_labels=np.asarray(train_labels).astype(dtype=\"float64\")\n",
        "test_labels=np.asarray(test_labels).astype(dtype=\"float64\")"
      ],
      "execution_count": null,
      "outputs": []
    },
    {
      "cell_type": "code",
      "metadata": {
        "id": "F9z3APxZJI0f"
      },
      "source": [
        "model= models.Sequential()\n",
        "model.add(layers.Dense(20, activation=\"relu\", input_shape=(train_data.shape[1],)))\n",
        "#model.add(layers.Dropout(0.1))\n",
        "model.add(layers.Dense(10, activation=\"relu\"))\n",
        "#model.add(layers.Dropout(0.5))\n",
        "model.add(layers.Dense(8,activation=\"relu\"))\n",
        "#model.add(layers.Dropout(0.5))\n",
        "model.add(layers.Dense(6,activation=\"relu\"))\n",
        "#model.add(layers.Dropout(0.5))\n",
        "model.add(layers.Dense(1,activation=\"sigmoid\"))\n",
        "\n",
        "model.compile(optimizer=\"adam\", loss=\"binary_crossentropy\", metrics=[\"accuracy\"])"
      ],
      "execution_count": null,
      "outputs": []
    },
    {
      "cell_type": "code",
      "metadata": {
        "colab": {
          "base_uri": "https://localhost:8080/"
        },
        "id": "Rl-KcBIlK3OH",
        "outputId": "de70d956-34a9-4ad8-b02e-12aa7a7f18cf"
      },
      "source": [
        "history=model.fit(train_data, train_labels, epochs=100, validation_split=.2)"
      ],
      "execution_count": null,
      "outputs": [
        {
          "output_type": "stream",
          "text": [
            "Epoch 1/100\n",
            "18/18 [==============================] - 1s 21ms/step - loss: 0.6743 - accuracy: 0.4720 - val_loss: 0.5824 - val_accuracy: 0.6812\n",
            "Epoch 2/100\n",
            "18/18 [==============================] - 0s 5ms/step - loss: 0.5524 - accuracy: 0.7143 - val_loss: 0.5241 - val_accuracy: 0.7971\n",
            "Epoch 3/100\n",
            "18/18 [==============================] - 0s 5ms/step - loss: 0.5129 - accuracy: 0.7939 - val_loss: 0.4883 - val_accuracy: 0.8188\n",
            "Epoch 4/100\n",
            "18/18 [==============================] - 0s 4ms/step - loss: 0.4827 - accuracy: 0.8374 - val_loss: 0.4567 - val_accuracy: 0.8406\n",
            "Epoch 5/100\n",
            "18/18 [==============================] - 0s 5ms/step - loss: 0.4232 - accuracy: 0.8917 - val_loss: 0.4273 - val_accuracy: 0.8623\n",
            "Epoch 6/100\n",
            "18/18 [==============================] - 0s 4ms/step - loss: 0.3888 - accuracy: 0.9013 - val_loss: 0.4002 - val_accuracy: 0.8768\n",
            "Epoch 7/100\n",
            "18/18 [==============================] - 0s 5ms/step - loss: 0.3539 - accuracy: 0.9064 - val_loss: 0.3750 - val_accuracy: 0.8768\n",
            "Epoch 8/100\n",
            "18/18 [==============================] - 0s 5ms/step - loss: 0.3441 - accuracy: 0.8904 - val_loss: 0.3502 - val_accuracy: 0.8841\n",
            "Epoch 9/100\n",
            "18/18 [==============================] - 0s 5ms/step - loss: 0.2980 - accuracy: 0.8980 - val_loss: 0.3317 - val_accuracy: 0.8696\n",
            "Epoch 10/100\n",
            "18/18 [==============================] - 0s 5ms/step - loss: 0.2348 - accuracy: 0.9321 - val_loss: 0.3149 - val_accuracy: 0.8768\n",
            "Epoch 11/100\n",
            "18/18 [==============================] - 0s 5ms/step - loss: 0.2242 - accuracy: 0.9210 - val_loss: 0.2856 - val_accuracy: 0.8841\n",
            "Epoch 12/100\n",
            "18/18 [==============================] - 0s 5ms/step - loss: 0.2140 - accuracy: 0.9293 - val_loss: 0.2595 - val_accuracy: 0.8841\n",
            "Epoch 13/100\n",
            "18/18 [==============================] - 0s 5ms/step - loss: 0.1776 - accuracy: 0.9492 - val_loss: 0.2363 - val_accuracy: 0.9203\n",
            "Epoch 14/100\n",
            "18/18 [==============================] - 0s 5ms/step - loss: 0.1754 - accuracy: 0.9349 - val_loss: 0.2249 - val_accuracy: 0.9275\n",
            "Epoch 15/100\n",
            "18/18 [==============================] - 0s 4ms/step - loss: 0.1608 - accuracy: 0.9459 - val_loss: 0.2153 - val_accuracy: 0.9203\n",
            "Epoch 16/100\n",
            "18/18 [==============================] - 0s 4ms/step - loss: 0.1647 - accuracy: 0.9454 - val_loss: 0.2181 - val_accuracy: 0.9275\n",
            "Epoch 17/100\n",
            "18/18 [==============================] - 0s 4ms/step - loss: 0.1283 - accuracy: 0.9611 - val_loss: 0.2167 - val_accuracy: 0.9058\n",
            "Epoch 18/100\n",
            "18/18 [==============================] - 0s 5ms/step - loss: 0.1218 - accuracy: 0.9665 - val_loss: 0.2213 - val_accuracy: 0.9130\n",
            "Epoch 19/100\n",
            "18/18 [==============================] - 0s 5ms/step - loss: 0.1075 - accuracy: 0.9728 - val_loss: 0.2300 - val_accuracy: 0.9203\n",
            "Epoch 20/100\n",
            "18/18 [==============================] - 0s 4ms/step - loss: 0.0944 - accuracy: 0.9779 - val_loss: 0.2374 - val_accuracy: 0.9130\n",
            "Epoch 21/100\n",
            "18/18 [==============================] - 0s 4ms/step - loss: 0.1129 - accuracy: 0.9680 - val_loss: 0.2439 - val_accuracy: 0.9203\n",
            "Epoch 22/100\n",
            "18/18 [==============================] - 0s 5ms/step - loss: 0.1037 - accuracy: 0.9596 - val_loss: 0.2479 - val_accuracy: 0.9203\n",
            "Epoch 23/100\n",
            "18/18 [==============================] - 0s 4ms/step - loss: 0.1002 - accuracy: 0.9732 - val_loss: 0.2509 - val_accuracy: 0.9130\n",
            "Epoch 24/100\n",
            "18/18 [==============================] - 0s 4ms/step - loss: 0.0893 - accuracy: 0.9782 - val_loss: 0.2551 - val_accuracy: 0.9130\n",
            "Epoch 25/100\n",
            "18/18 [==============================] - 0s 5ms/step - loss: 0.1200 - accuracy: 0.9601 - val_loss: 0.2565 - val_accuracy: 0.9130\n",
            "Epoch 26/100\n",
            "18/18 [==============================] - 0s 5ms/step - loss: 0.0986 - accuracy: 0.9680 - val_loss: 0.2635 - val_accuracy: 0.9203\n",
            "Epoch 27/100\n",
            "18/18 [==============================] - 0s 5ms/step - loss: 0.0936 - accuracy: 0.9727 - val_loss: 0.2670 - val_accuracy: 0.9203\n",
            "Epoch 28/100\n",
            "18/18 [==============================] - 0s 5ms/step - loss: 0.1021 - accuracy: 0.9660 - val_loss: 0.2715 - val_accuracy: 0.9275\n",
            "Epoch 29/100\n",
            "18/18 [==============================] - 0s 4ms/step - loss: 0.0695 - accuracy: 0.9796 - val_loss: 0.2793 - val_accuracy: 0.9203\n",
            "Epoch 30/100\n",
            "18/18 [==============================] - 0s 5ms/step - loss: 0.0763 - accuracy: 0.9810 - val_loss: 0.2804 - val_accuracy: 0.9203\n",
            "Epoch 31/100\n",
            "18/18 [==============================] - 0s 4ms/step - loss: 0.0840 - accuracy: 0.9720 - val_loss: 0.2824 - val_accuracy: 0.9275\n",
            "Epoch 32/100\n",
            "18/18 [==============================] - 0s 4ms/step - loss: 0.0570 - accuracy: 0.9843 - val_loss: 0.2886 - val_accuracy: 0.9130\n",
            "Epoch 33/100\n",
            "18/18 [==============================] - 0s 4ms/step - loss: 0.0736 - accuracy: 0.9777 - val_loss: 0.2906 - val_accuracy: 0.9203\n",
            "Epoch 34/100\n",
            "18/18 [==============================] - 0s 4ms/step - loss: 0.0627 - accuracy: 0.9756 - val_loss: 0.2955 - val_accuracy: 0.9203\n",
            "Epoch 35/100\n",
            "18/18 [==============================] - 0s 5ms/step - loss: 0.0785 - accuracy: 0.9774 - val_loss: 0.3006 - val_accuracy: 0.9203\n",
            "Epoch 36/100\n",
            "18/18 [==============================] - 0s 4ms/step - loss: 0.0886 - accuracy: 0.9700 - val_loss: 0.3072 - val_accuracy: 0.9203\n",
            "Epoch 37/100\n",
            "18/18 [==============================] - 0s 5ms/step - loss: 0.0759 - accuracy: 0.9741 - val_loss: 0.3109 - val_accuracy: 0.9275\n",
            "Epoch 38/100\n",
            "18/18 [==============================] - 0s 5ms/step - loss: 0.0560 - accuracy: 0.9828 - val_loss: 0.3151 - val_accuracy: 0.9130\n",
            "Epoch 39/100\n",
            "18/18 [==============================] - 0s 5ms/step - loss: 0.0509 - accuracy: 0.9832 - val_loss: 0.3245 - val_accuracy: 0.9130\n",
            "Epoch 40/100\n",
            "18/18 [==============================] - 0s 5ms/step - loss: 0.0549 - accuracy: 0.9807 - val_loss: 0.3341 - val_accuracy: 0.9203\n",
            "Epoch 41/100\n",
            "18/18 [==============================] - 0s 5ms/step - loss: 0.0452 - accuracy: 0.9862 - val_loss: 0.3373 - val_accuracy: 0.9203\n",
            "Epoch 42/100\n",
            "18/18 [==============================] - 0s 5ms/step - loss: 0.0517 - accuracy: 0.9842 - val_loss: 0.3380 - val_accuracy: 0.9130\n",
            "Epoch 43/100\n",
            "18/18 [==============================] - 0s 5ms/step - loss: 0.0603 - accuracy: 0.9815 - val_loss: 0.3421 - val_accuracy: 0.9058\n",
            "Epoch 44/100\n",
            "18/18 [==============================] - 0s 5ms/step - loss: 0.0566 - accuracy: 0.9802 - val_loss: 0.3471 - val_accuracy: 0.9058\n",
            "Epoch 45/100\n",
            "18/18 [==============================] - 0s 4ms/step - loss: 0.0476 - accuracy: 0.9890 - val_loss: 0.3550 - val_accuracy: 0.9058\n",
            "Epoch 46/100\n",
            "18/18 [==============================] - 0s 5ms/step - loss: 0.0422 - accuracy: 0.9781 - val_loss: 0.3620 - val_accuracy: 0.9058\n",
            "Epoch 47/100\n",
            "18/18 [==============================] - 0s 5ms/step - loss: 0.0504 - accuracy: 0.9809 - val_loss: 0.3652 - val_accuracy: 0.9058\n",
            "Epoch 48/100\n",
            "18/18 [==============================] - 0s 5ms/step - loss: 0.0403 - accuracy: 0.9832 - val_loss: 0.3695 - val_accuracy: 0.9130\n",
            "Epoch 49/100\n",
            "18/18 [==============================] - 0s 5ms/step - loss: 0.0393 - accuracy: 0.9858 - val_loss: 0.3767 - val_accuracy: 0.9203\n",
            "Epoch 50/100\n",
            "18/18 [==============================] - 0s 5ms/step - loss: 0.0299 - accuracy: 0.9931 - val_loss: 0.3813 - val_accuracy: 0.9058\n",
            "Epoch 51/100\n",
            "18/18 [==============================] - 0s 4ms/step - loss: 0.0301 - accuracy: 0.9980 - val_loss: 0.3972 - val_accuracy: 0.9130\n",
            "Epoch 52/100\n",
            "18/18 [==============================] - 0s 5ms/step - loss: 0.0306 - accuracy: 0.9872 - val_loss: 0.3928 - val_accuracy: 0.9058\n",
            "Epoch 53/100\n",
            "18/18 [==============================] - 0s 4ms/step - loss: 0.0344 - accuracy: 0.9986 - val_loss: 0.4002 - val_accuracy: 0.9130\n",
            "Epoch 54/100\n",
            "18/18 [==============================] - 0s 5ms/step - loss: 0.0309 - accuracy: 0.9969 - val_loss: 0.4070 - val_accuracy: 0.9130\n",
            "Epoch 55/100\n",
            "18/18 [==============================] - 0s 4ms/step - loss: 0.0273 - accuracy: 0.9919 - val_loss: 0.4096 - val_accuracy: 0.9130\n",
            "Epoch 56/100\n",
            "18/18 [==============================] - 0s 4ms/step - loss: 0.0435 - accuracy: 0.9942 - val_loss: 0.4164 - val_accuracy: 0.9130\n",
            "Epoch 57/100\n",
            "18/18 [==============================] - 0s 5ms/step - loss: 0.0246 - accuracy: 0.9971 - val_loss: 0.4262 - val_accuracy: 0.9058\n",
            "Epoch 58/100\n",
            "18/18 [==============================] - 0s 4ms/step - loss: 0.0301 - accuracy: 0.9950 - val_loss: 0.4330 - val_accuracy: 0.9058\n",
            "Epoch 59/100\n",
            "18/18 [==============================] - 0s 5ms/step - loss: 0.0192 - accuracy: 0.9987 - val_loss: 0.4384 - val_accuracy: 0.9058\n",
            "Epoch 60/100\n",
            "18/18 [==============================] - 0s 5ms/step - loss: 0.0198 - accuracy: 0.9988 - val_loss: 0.4450 - val_accuracy: 0.9130\n",
            "Epoch 61/100\n",
            "18/18 [==============================] - 0s 5ms/step - loss: 0.0195 - accuracy: 0.9976 - val_loss: 0.4480 - val_accuracy: 0.9130\n",
            "Epoch 62/100\n",
            "18/18 [==============================] - 0s 5ms/step - loss: 0.0235 - accuracy: 0.9982 - val_loss: 0.4544 - val_accuracy: 0.9130\n",
            "Epoch 63/100\n",
            "18/18 [==============================] - 0s 5ms/step - loss: 0.0114 - accuracy: 0.9995 - val_loss: 0.4621 - val_accuracy: 0.9130\n",
            "Epoch 64/100\n",
            "18/18 [==============================] - 0s 4ms/step - loss: 0.0221 - accuracy: 0.9972 - val_loss: 0.4625 - val_accuracy: 0.9130\n",
            "Epoch 65/100\n",
            "18/18 [==============================] - 0s 4ms/step - loss: 0.0231 - accuracy: 0.9972 - val_loss: 0.4682 - val_accuracy: 0.9130\n",
            "Epoch 66/100\n",
            "18/18 [==============================] - 0s 4ms/step - loss: 0.0118 - accuracy: 0.9990 - val_loss: 0.4793 - val_accuracy: 0.9058\n",
            "Epoch 67/100\n",
            "18/18 [==============================] - 0s 4ms/step - loss: 0.0206 - accuracy: 0.9984 - val_loss: 0.4873 - val_accuracy: 0.9058\n",
            "Epoch 68/100\n",
            "18/18 [==============================] - 0s 4ms/step - loss: 0.0160 - accuracy: 0.9984 - val_loss: 0.4814 - val_accuracy: 0.9130\n",
            "Epoch 69/100\n",
            "18/18 [==============================] - 0s 5ms/step - loss: 0.0189 - accuracy: 0.9972 - val_loss: 0.4839 - val_accuracy: 0.9130\n",
            "Epoch 70/100\n",
            "18/18 [==============================] - 0s 5ms/step - loss: 0.0118 - accuracy: 0.9993 - val_loss: 0.4903 - val_accuracy: 0.8986\n",
            "Epoch 71/100\n",
            "18/18 [==============================] - 0s 4ms/step - loss: 0.0136 - accuracy: 0.9982 - val_loss: 0.4958 - val_accuracy: 0.8986\n",
            "Epoch 72/100\n",
            "18/18 [==============================] - 0s 5ms/step - loss: 0.0097 - accuracy: 0.9998 - val_loss: 0.5015 - val_accuracy: 0.9058\n",
            "Epoch 73/100\n",
            "18/18 [==============================] - 0s 5ms/step - loss: 0.0175 - accuracy: 0.9979 - val_loss: 0.4956 - val_accuracy: 0.9130\n",
            "Epoch 74/100\n",
            "18/18 [==============================] - 0s 5ms/step - loss: 0.0148 - accuracy: 0.9955 - val_loss: 0.5013 - val_accuracy: 0.8986\n",
            "Epoch 75/100\n",
            "18/18 [==============================] - 0s 4ms/step - loss: 0.0215 - accuracy: 0.9942 - val_loss: 0.5085 - val_accuracy: 0.8986\n",
            "Epoch 76/100\n",
            "18/18 [==============================] - 0s 5ms/step - loss: 0.0137 - accuracy: 0.9972 - val_loss: 0.5160 - val_accuracy: 0.8986\n",
            "Epoch 77/100\n",
            "18/18 [==============================] - 0s 5ms/step - loss: 0.0066 - accuracy: 0.9995 - val_loss: 0.5223 - val_accuracy: 0.8986\n",
            "Epoch 78/100\n",
            "18/18 [==============================] - 0s 4ms/step - loss: 0.0160 - accuracy: 0.9942 - val_loss: 0.5286 - val_accuracy: 0.8986\n",
            "Epoch 79/100\n",
            "18/18 [==============================] - 0s 4ms/step - loss: 0.0088 - accuracy: 0.9986 - val_loss: 0.5297 - val_accuracy: 0.8986\n",
            "Epoch 80/100\n",
            "18/18 [==============================] - 0s 5ms/step - loss: 0.0114 - accuracy: 0.9958 - val_loss: 0.5395 - val_accuracy: 0.8986\n",
            "Epoch 81/100\n",
            "18/18 [==============================] - 0s 5ms/step - loss: 0.0073 - accuracy: 0.9986 - val_loss: 0.5407 - val_accuracy: 0.8986\n",
            "Epoch 82/100\n",
            "18/18 [==============================] - 0s 4ms/step - loss: 0.0066 - accuracy: 0.9988 - val_loss: 0.5457 - val_accuracy: 0.8986\n",
            "Epoch 83/100\n",
            "18/18 [==============================] - 0s 4ms/step - loss: 0.0059 - accuracy: 0.9991 - val_loss: 0.5509 - val_accuracy: 0.8986\n",
            "Epoch 84/100\n",
            "18/18 [==============================] - 0s 5ms/step - loss: 0.0055 - accuracy: 0.9993 - val_loss: 0.5565 - val_accuracy: 0.8986\n",
            "Epoch 85/100\n",
            "18/18 [==============================] - 0s 4ms/step - loss: 0.0107 - accuracy: 0.9942 - val_loss: 0.5633 - val_accuracy: 0.8986\n",
            "Epoch 86/100\n",
            "18/18 [==============================] - 0s 4ms/step - loss: 0.0061 - accuracy: 0.9982 - val_loss: 0.5668 - val_accuracy: 0.8986\n",
            "Epoch 87/100\n",
            "18/18 [==============================] - 0s 4ms/step - loss: 0.0046 - accuracy: 0.9993 - val_loss: 0.5728 - val_accuracy: 0.8986\n",
            "Epoch 88/100\n",
            "18/18 [==============================] - 0s 5ms/step - loss: 0.0038 - accuracy: 0.9993 - val_loss: 0.5774 - val_accuracy: 0.8986\n",
            "Epoch 89/100\n",
            "18/18 [==============================] - 0s 5ms/step - loss: 0.0048 - accuracy: 0.9988 - val_loss: 0.5818 - val_accuracy: 0.8986\n",
            "Epoch 90/100\n",
            "18/18 [==============================] - 0s 5ms/step - loss: 0.0043 - accuracy: 0.9994 - val_loss: 0.5878 - val_accuracy: 0.8986\n",
            "Epoch 91/100\n",
            "18/18 [==============================] - 0s 5ms/step - loss: 0.0046 - accuracy: 0.9994 - val_loss: 0.5946 - val_accuracy: 0.8986\n",
            "Epoch 92/100\n",
            "18/18 [==============================] - 0s 5ms/step - loss: 0.0055 - accuracy: 1.0000 - val_loss: 0.5969 - val_accuracy: 0.8986\n",
            "Epoch 93/100\n",
            "18/18 [==============================] - 0s 6ms/step - loss: 0.0037 - accuracy: 1.0000 - val_loss: 0.6009 - val_accuracy: 0.8986\n",
            "Epoch 94/100\n",
            "18/18 [==============================] - 0s 7ms/step - loss: 0.0044 - accuracy: 0.9990 - val_loss: 0.6078 - val_accuracy: 0.8986\n",
            "Epoch 95/100\n",
            "18/18 [==============================] - 0s 5ms/step - loss: 0.0046 - accuracy: 1.0000 - val_loss: 0.6127 - val_accuracy: 0.8986\n",
            "Epoch 96/100\n",
            "18/18 [==============================] - 0s 5ms/step - loss: 0.0033 - accuracy: 0.9994 - val_loss: 0.6105 - val_accuracy: 0.8986\n",
            "Epoch 97/100\n",
            "18/18 [==============================] - 0s 5ms/step - loss: 0.0063 - accuracy: 1.0000 - val_loss: 0.6186 - val_accuracy: 0.8986\n",
            "Epoch 98/100\n",
            "18/18 [==============================] - 0s 5ms/step - loss: 0.0033 - accuracy: 0.9988 - val_loss: 0.6260 - val_accuracy: 0.8986\n",
            "Epoch 99/100\n",
            "18/18 [==============================] - 0s 5ms/step - loss: 0.0030 - accuracy: 1.0000 - val_loss: 0.6328 - val_accuracy: 0.8986\n",
            "Epoch 100/100\n",
            "18/18 [==============================] - 0s 5ms/step - loss: 0.0036 - accuracy: 1.0000 - val_loss: 0.6375 - val_accuracy: 0.8986\n"
          ],
          "name": "stdout"
        }
      ]
    },
    {
      "cell_type": "code",
      "metadata": {
        "colab": {
          "base_uri": "https://localhost:8080/",
          "height": 279
        },
        "id": "pOdyA8ycK-FY",
        "outputId": "67b8e8df-4fe1-43c5-a790-000e61aed43e"
      },
      "source": [
        "loss=history.history[\"loss\"]\n",
        "val_loss=history.history[\"val_loss\"]\n",
        "epochs=range(1, len(loss)+1)\n",
        "plt.plot(epochs, loss, \"bo\", label=\"Training Loss\")\n",
        "plt.plot(epochs, val_loss, \"b\", label=\"Validation Loss\")\n",
        "plt.xlabel(\"Epochs\")\n",
        "plt.ylabel(\"Loss\")\n",
        "plt.legend()\n",
        "plt.show()"
      ],
      "execution_count": null,
      "outputs": [
        {
          "output_type": "display_data",
          "data": {
            "image/png": "[encoded data removed]",
            "text/plain": [
              "<Figure size 432x288 with 1 Axes>"
            ]
          },
          "metadata": {
            "tags": [],
            "needs_background": "light"
          }
        }
      ]
    },
    {
      "cell_type": "code",
      "metadata": {
        "colab": {
          "base_uri": "https://localhost:8080/",
          "height": 279
        },
        "id": "FQWUcQAsLDTc",
        "outputId": "fcd298e4-5447-45a3-b5d1-73f1d1d47aca"
      },
      "source": [
        "acc=history.history[\"accuracy\"]\n",
        "val_acc=history.history[\"val_accuracy\"]\n",
        "epochs=range(1, len(acc)+1)\n",
        "plt.plot(epochs[:], acc[:], \"bo\", label=\"Training Accuracy\")\n",
        "plt.plot(epochs[:], val_acc[:], \"b\", label=\"Validation Accuracy\")\n",
        "plt.xlabel(\"Epochs\")\n",
        "plt.ylabel(\"Accuracy\")\n",
        "plt.legend()\n",
        "plt.show()"
      ],
      "execution_count": null,
      "outputs": [
        {
          "output_type": "display_data",
          "data": {
            "image/png": "[encoded data removed]",
            "text/plain": [
              "<Figure size 432x288 with 1 Axes>"
            ]
          },
          "metadata": {
            "tags": [],
            "needs_background": "light"
          }
        }
      ]
    },
    {
      "cell_type": "code",
      "metadata": {
        "colab": {
          "base_uri": "https://localhost:8080/"
        },
        "id": "jl-RbgqYLKuY",
        "outputId": "4bb33443-53c3-4997-dab3-df920889d514"
      },
      "source": [
        "test_loss_score, test_acc_score=model.evaluate(test_data, test_labels)"
      ],
      "execution_count": null,
      "outputs": [
        {
          "output_type": "stream",
          "text": [
            "10/10 [==============================] - 0s 2ms/step - loss: 0.5043 - accuracy: 0.9291\n"
          ],
          "name": "stdout"
        }
      ]
    },
    {
      "cell_type": "code",
      "metadata": {
        "colab": {
          "base_uri": "https://localhost:8080/"
        },
        "id": "271D0SaoLO6D",
        "outputId": "f9c57f8e-fd50-4487-d7d0-1d7bacaa39e9"
      },
      "source": [
        "test_acc_score *100"
      ],
      "execution_count": null,
      "outputs": [
        {
          "output_type": "execute_result",
          "data": {
            "text/plain": [
              "92.90540814399719"
            ]
          },
          "metadata": {
            "tags": []
          },
          "execution_count": 21
        }
      ]
    },
    {
      "cell_type": "code",
      "metadata": {
        "id": "H_1kQBSALStv"
      },
      "source": [
        "prediction=model.predict(test_data).astype(dtype=\"u8\")"
      ],
      "execution_count": null,
      "outputs": []
    },
    {
      "cell_type": "code",
      "metadata": {
        "colab": {
          "base_uri": "https://localhost:8080/"
        },
        "id": "anmJA3kALb8p",
        "outputId": "a64b4274-7d1d-4aa3-8c55-db06e56deeec"
      },
      "source": [
        "prediction[45:60]"
      ],
      "execution_count": null,
      "outputs": [
        {
          "output_type": "execute_result",
          "data": {
            "text/plain": [
              "array([[0],\n",
              "       [0],\n",
              "       [0],\n",
              "       [0],\n",
              "       [1],\n",
              "       [1],\n",
              "       [0],\n",
              "       [1],\n",
              "       [1],\n",
              "       [0],\n",
              "       [0],\n",
              "       [0],\n",
              "       [0],\n",
              "       [1],\n",
              "       [0]], dtype=uint64)"
            ]
          },
          "metadata": {
            "tags": []
          },
          "execution_count": 26
        }
      ]
    },
    {
      "cell_type": "code",
      "metadata": {
        "colab": {
          "base_uri": "https://localhost:8080/"
        },
        "id": "jgIBYh6fLi8l",
        "outputId": "e60674cf-7d49-402d-e2ca-d29eb56f697e"
      },
      "source": [
        "test_labels[45:60]"
      ],
      "execution_count": null,
      "outputs": [
        {
          "output_type": "execute_result",
          "data": {
            "text/plain": [
              "array([0., 1., 0., 1., 1., 1., 1., 1., 1., 0., 0., 0., 0., 1., 1.])"
            ]
          },
          "metadata": {
            "tags": []
          },
          "execution_count": 24
        }
      ]
    }
  ]
}