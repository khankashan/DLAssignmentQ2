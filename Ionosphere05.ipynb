{
  "nbformat": 4,
  "nbformat_minor": 0,
  "metadata": {
    "colab": {
      "name": "Ionosphere05.ipynb",
      "provenance": [],
      "collapsed_sections": []
    },
    "kernelspec": {
      "name": "python3",
      "display_name": "Python 3"
    },
    "language_info": {
      "name": "python"
    }
  },
  "cells": [
    {
      "cell_type": "code",
      "metadata": {
        "id": "xt8EsCxQJ06M"
      },
      "source": [
        ""
      ],
      "execution_count": null,
      "outputs": []
    },
    {
      "cell_type": "markdown",
      "metadata": {
        "id": "d8cZVpnfNCOn"
      },
      "source": [
        "**Assignment: Ionosphere**"
      ]
    },
    {
      "cell_type": "code",
      "metadata": {
        "colab": {
          "base_uri": "https://localhost:8080/"
        },
        "id": "PZ7p51pPNIxG",
        "outputId": "c289afaf-260a-41c3-d8ca-5f6277ff820d"
      },
      "source": [
        "cd /content/drive/MyDrive/DeepLearningAssignment/"
      ],
      "execution_count": null,
      "outputs": [
        {
          "output_type": "stream",
          "text": [
            "/content/drive/MyDrive/DeepLearningAssignment\n"
          ],
          "name": "stdout"
        }
      ]
    },
    {
      "cell_type": "code",
      "metadata": {
        "id": "k77X-ckeNU2D"
      },
      "source": [
        "import tensorflow as tf\n",
        "import pandas as pd\n",
        "import numpy as np\n",
        "import matplotlib.pyplot as plt"
      ],
      "execution_count": null,
      "outputs": []
    },
    {
      "cell_type": "code",
      "metadata": {
        "id": "LVU4RmLiNhSy"
      },
      "source": [
        "df = pd.read_csv('./ionosphere_data.csv')#Loading Data\n"
      ],
      "execution_count": null,
      "outputs": []
    },
    {
      "cell_type": "code",
      "metadata": {
        "colab": {
          "base_uri": "https://localhost:8080/",
          "height": 224
        },
        "id": "Z0m8TQHAN5Zp",
        "outputId": "1e8f46d4-59ef-49bc-b59b-5f2a7ab480c5"
      },
      "source": [
        "df.head()"
      ],
      "execution_count": null,
      "outputs": [
        {
          "output_type": "execute_result",
          "data": {
            "text/html": [
              "<div>\n",
              "<style scoped>\n",
              "    .dataframe tbody tr th:only-of-type {\n",
              "        vertical-align: middle;\n",
              "    }\n",
              "\n",
              "    .dataframe tbody tr th {\n",
              "        vertical-align: top;\n",
              "    }\n",
              "\n",
              "    .dataframe thead th {\n",
              "        text-align: right;\n",
              "    }\n",
              "</style>\n",
              "<table border=\"1\" class=\"dataframe\">\n",
              "  <thead>\n",
              "    <tr style=\"text-align: right;\">\n",
              "      <th></th>\n",
              "      <th>feature1</th>\n",
              "      <th>feature2</th>\n",
              "      <th>feature3</th>\n",
              "      <th>feature4</th>\n",
              "      <th>feature5</th>\n",
              "      <th>feature6</th>\n",
              "      <th>feature7</th>\n",
              "      <th>feature8</th>\n",
              "      <th>feature9</th>\n",
              "      <th>feature10</th>\n",
              "      <th>feature11</th>\n",
              "      <th>feature12</th>\n",
              "      <th>feature13</th>\n",
              "      <th>feature14</th>\n",
              "      <th>feature15</th>\n",
              "      <th>feature16</th>\n",
              "      <th>feature17</th>\n",
              "      <th>feature18</th>\n",
              "      <th>feature19</th>\n",
              "      <th>feature20</th>\n",
              "      <th>feature21</th>\n",
              "      <th>feature22</th>\n",
              "      <th>feature23</th>\n",
              "      <th>feature24</th>\n",
              "      <th>feature25</th>\n",
              "      <th>feature26</th>\n",
              "      <th>feature27</th>\n",
              "      <th>feature28</th>\n",
              "      <th>feature29</th>\n",
              "      <th>feature30</th>\n",
              "      <th>feature31</th>\n",
              "      <th>feature32</th>\n",
              "      <th>feature33</th>\n",
              "      <th>feature34</th>\n",
              "      <th>label</th>\n",
              "    </tr>\n",
              "  </thead>\n",
              "  <tbody>\n",
              "    <tr>\n",
              "      <th>0</th>\n",
              "      <td>1</td>\n",
              "      <td>0</td>\n",
              "      <td>0.99539</td>\n",
              "      <td>-0.05889</td>\n",
              "      <td>0.85243</td>\n",
              "      <td>0.02306</td>\n",
              "      <td>0.83398</td>\n",
              "      <td>-0.37708</td>\n",
              "      <td>1.00000</td>\n",
              "      <td>0.03760</td>\n",
              "      <td>0.85243</td>\n",
              "      <td>-0.17755</td>\n",
              "      <td>0.59755</td>\n",
              "      <td>-0.44945</td>\n",
              "      <td>0.60536</td>\n",
              "      <td>-0.38223</td>\n",
              "      <td>0.84356</td>\n",
              "      <td>-0.38542</td>\n",
              "      <td>0.58212</td>\n",
              "      <td>-0.32192</td>\n",
              "      <td>0.56971</td>\n",
              "      <td>-0.29674</td>\n",
              "      <td>0.36946</td>\n",
              "      <td>-0.47357</td>\n",
              "      <td>0.56811</td>\n",
              "      <td>-0.51171</td>\n",
              "      <td>0.41078</td>\n",
              "      <td>-0.46168</td>\n",
              "      <td>0.21266</td>\n",
              "      <td>-0.34090</td>\n",
              "      <td>0.42267</td>\n",
              "      <td>-0.54487</td>\n",
              "      <td>0.18641</td>\n",
              "      <td>-0.45300</td>\n",
              "      <td>g</td>\n",
              "    </tr>\n",
              "    <tr>\n",
              "      <th>1</th>\n",
              "      <td>1</td>\n",
              "      <td>0</td>\n",
              "      <td>1.00000</td>\n",
              "      <td>-0.18829</td>\n",
              "      <td>0.93035</td>\n",
              "      <td>-0.36156</td>\n",
              "      <td>-0.10868</td>\n",
              "      <td>-0.93597</td>\n",
              "      <td>1.00000</td>\n",
              "      <td>-0.04549</td>\n",
              "      <td>0.50874</td>\n",
              "      <td>-0.67743</td>\n",
              "      <td>0.34432</td>\n",
              "      <td>-0.69707</td>\n",
              "      <td>-0.51685</td>\n",
              "      <td>-0.97515</td>\n",
              "      <td>0.05499</td>\n",
              "      <td>-0.62237</td>\n",
              "      <td>0.33109</td>\n",
              "      <td>-1.00000</td>\n",
              "      <td>-0.13151</td>\n",
              "      <td>-0.45300</td>\n",
              "      <td>-0.18056</td>\n",
              "      <td>-0.35734</td>\n",
              "      <td>-0.20332</td>\n",
              "      <td>-0.26569</td>\n",
              "      <td>-0.20468</td>\n",
              "      <td>-0.18401</td>\n",
              "      <td>-0.19040</td>\n",
              "      <td>-0.11593</td>\n",
              "      <td>-0.16626</td>\n",
              "      <td>-0.06288</td>\n",
              "      <td>-0.13738</td>\n",
              "      <td>-0.02447</td>\n",
              "      <td>b</td>\n",
              "    </tr>\n",
              "    <tr>\n",
              "      <th>2</th>\n",
              "      <td>1</td>\n",
              "      <td>0</td>\n",
              "      <td>1.00000</td>\n",
              "      <td>-0.03365</td>\n",
              "      <td>1.00000</td>\n",
              "      <td>0.00485</td>\n",
              "      <td>1.00000</td>\n",
              "      <td>-0.12062</td>\n",
              "      <td>0.88965</td>\n",
              "      <td>0.01198</td>\n",
              "      <td>0.73082</td>\n",
              "      <td>0.05346</td>\n",
              "      <td>0.85443</td>\n",
              "      <td>0.00827</td>\n",
              "      <td>0.54591</td>\n",
              "      <td>0.00299</td>\n",
              "      <td>0.83775</td>\n",
              "      <td>-0.13644</td>\n",
              "      <td>0.75535</td>\n",
              "      <td>-0.08540</td>\n",
              "      <td>0.70887</td>\n",
              "      <td>-0.27502</td>\n",
              "      <td>0.43385</td>\n",
              "      <td>-0.12062</td>\n",
              "      <td>0.57528</td>\n",
              "      <td>-0.40220</td>\n",
              "      <td>0.58984</td>\n",
              "      <td>-0.22145</td>\n",
              "      <td>0.43100</td>\n",
              "      <td>-0.17365</td>\n",
              "      <td>0.60436</td>\n",
              "      <td>-0.24180</td>\n",
              "      <td>0.56045</td>\n",
              "      <td>-0.38238</td>\n",
              "      <td>g</td>\n",
              "    </tr>\n",
              "    <tr>\n",
              "      <th>3</th>\n",
              "      <td>1</td>\n",
              "      <td>0</td>\n",
              "      <td>1.00000</td>\n",
              "      <td>-0.45161</td>\n",
              "      <td>1.00000</td>\n",
              "      <td>1.00000</td>\n",
              "      <td>0.71216</td>\n",
              "      <td>-1.00000</td>\n",
              "      <td>0.00000</td>\n",
              "      <td>0.00000</td>\n",
              "      <td>0.00000</td>\n",
              "      <td>0.00000</td>\n",
              "      <td>0.00000</td>\n",
              "      <td>0.00000</td>\n",
              "      <td>-1.00000</td>\n",
              "      <td>0.14516</td>\n",
              "      <td>0.54094</td>\n",
              "      <td>-0.39330</td>\n",
              "      <td>-1.00000</td>\n",
              "      <td>-0.54467</td>\n",
              "      <td>-0.69975</td>\n",
              "      <td>1.00000</td>\n",
              "      <td>0.00000</td>\n",
              "      <td>0.00000</td>\n",
              "      <td>1.00000</td>\n",
              "      <td>0.90695</td>\n",
              "      <td>0.51613</td>\n",
              "      <td>1.00000</td>\n",
              "      <td>1.00000</td>\n",
              "      <td>-0.20099</td>\n",
              "      <td>0.25682</td>\n",
              "      <td>1.00000</td>\n",
              "      <td>-0.32382</td>\n",
              "      <td>1.00000</td>\n",
              "      <td>b</td>\n",
              "    </tr>\n",
              "    <tr>\n",
              "      <th>4</th>\n",
              "      <td>1</td>\n",
              "      <td>0</td>\n",
              "      <td>1.00000</td>\n",
              "      <td>-0.02401</td>\n",
              "      <td>0.94140</td>\n",
              "      <td>0.06531</td>\n",
              "      <td>0.92106</td>\n",
              "      <td>-0.23255</td>\n",
              "      <td>0.77152</td>\n",
              "      <td>-0.16399</td>\n",
              "      <td>0.52798</td>\n",
              "      <td>-0.20275</td>\n",
              "      <td>0.56409</td>\n",
              "      <td>-0.00712</td>\n",
              "      <td>0.34395</td>\n",
              "      <td>-0.27457</td>\n",
              "      <td>0.52940</td>\n",
              "      <td>-0.21780</td>\n",
              "      <td>0.45107</td>\n",
              "      <td>-0.17813</td>\n",
              "      <td>0.05982</td>\n",
              "      <td>-0.35575</td>\n",
              "      <td>0.02309</td>\n",
              "      <td>-0.52879</td>\n",
              "      <td>0.03286</td>\n",
              "      <td>-0.65158</td>\n",
              "      <td>0.13290</td>\n",
              "      <td>-0.53206</td>\n",
              "      <td>0.02431</td>\n",
              "      <td>-0.62197</td>\n",
              "      <td>-0.05707</td>\n",
              "      <td>-0.59573</td>\n",
              "      <td>-0.04608</td>\n",
              "      <td>-0.65697</td>\n",
              "      <td>g</td>\n",
              "    </tr>\n",
              "  </tbody>\n",
              "</table>\n",
              "</div>"
            ],
            "text/plain": [
              "   feature1  feature2  feature3  ...  feature33  feature34  label\n",
              "0         1         0   0.99539  ...    0.18641   -0.45300      g\n",
              "1         1         0   1.00000  ...   -0.13738   -0.02447      b\n",
              "2         1         0   1.00000  ...    0.56045   -0.38238      g\n",
              "3         1         0   1.00000  ...   -0.32382    1.00000      b\n",
              "4         1         0   1.00000  ...   -0.04608   -0.65697      g\n",
              "\n",
              "[5 rows x 35 columns]"
            ]
          },
          "metadata": {
            "tags": []
          },
          "execution_count": 5
        }
      ]
    },
    {
      "cell_type": "code",
      "metadata": {
        "colab": {
          "base_uri": "https://localhost:8080/"
        },
        "id": "X_6Qb-tiOIe-",
        "outputId": "55ca4d52-780e-4fae-ef43-e62e2e96eb3e"
      },
      "source": [
        "df.shape  # Find the shape of the dataset "
      ],
      "execution_count": null,
      "outputs": [
        {
          "output_type": "execute_result",
          "data": {
            "text/plain": [
              "(351, 35)"
            ]
          },
          "metadata": {
            "tags": []
          },
          "execution_count": 7
        }
      ]
    },
    {
      "cell_type": "code",
      "metadata": {
        "colab": {
          "base_uri": "https://localhost:8080/"
        },
        "id": "OscYJ7ruOeLZ",
        "outputId": "d1520ff4-b35d-4adc-bc92-d70f1b04bfb3"
      },
      "source": [
        "for feature in df:\n",
        "    print(feature)\n",
        "    print(len(df[feature].unique()))"
      ],
      "execution_count": null,
      "outputs": [
        {
          "output_type": "stream",
          "text": [
            "feature1\n",
            "2\n",
            "feature2\n",
            "1\n",
            "feature3\n",
            "219\n",
            "feature4\n",
            "269\n",
            "feature5\n",
            "204\n",
            "feature6\n",
            "259\n",
            "feature7\n",
            "231\n",
            "feature8\n",
            "260\n",
            "feature9\n",
            "244\n",
            "feature10\n",
            "267\n",
            "feature11\n",
            "246\n",
            "feature12\n",
            "269\n",
            "feature13\n",
            "238\n",
            "feature14\n",
            "266\n",
            "feature15\n",
            "234\n",
            "feature16\n",
            "270\n",
            "feature17\n",
            "254\n",
            "feature18\n",
            "280\n",
            "feature19\n",
            "254\n",
            "feature20\n",
            "266\n",
            "feature21\n",
            "248\n",
            "feature22\n",
            "265\n",
            "feature23\n",
            "248\n",
            "feature24\n",
            "264\n",
            "feature25\n",
            "256\n",
            "feature26\n",
            "273\n",
            "feature27\n",
            "256\n",
            "feature28\n",
            "281\n",
            "feature29\n",
            "244\n",
            "feature30\n",
            "266\n",
            "feature31\n",
            "243\n",
            "feature32\n",
            "263\n",
            "feature33\n",
            "245\n",
            "feature34\n",
            "263\n",
            "label\n",
            "2\n"
          ],
          "name": "stdout"
        }
      ]
    },
    {
      "cell_type": "code",
      "metadata": {
        "id": "38ko1yZ0OphD"
      },
      "source": [
        "df.drop(df.columns[1], inplace=True, axis=1)"
      ],
      "execution_count": null,
      "outputs": []
    },
    {
      "cell_type": "code",
      "metadata": {
        "colab": {
          "base_uri": "https://localhost:8080/",
          "height": 224
        },
        "id": "nlXFJq3YOtbZ",
        "outputId": "a3246b52-905e-4334-c9d5-101c6bc568de"
      },
      "source": [
        "df.head()"
      ],
      "execution_count": null,
      "outputs": [
        {
          "output_type": "execute_result",
          "data": {
            "text/html": [
              "<div>\n",
              "<style scoped>\n",
              "    .dataframe tbody tr th:only-of-type {\n",
              "        vertical-align: middle;\n",
              "    }\n",
              "\n",
              "    .dataframe tbody tr th {\n",
              "        vertical-align: top;\n",
              "    }\n",
              "\n",
              "    .dataframe thead th {\n",
              "        text-align: right;\n",
              "    }\n",
              "</style>\n",
              "<table border=\"1\" class=\"dataframe\">\n",
              "  <thead>\n",
              "    <tr style=\"text-align: right;\">\n",
              "      <th></th>\n",
              "      <th>feature1</th>\n",
              "      <th>feature3</th>\n",
              "      <th>feature4</th>\n",
              "      <th>feature5</th>\n",
              "      <th>feature6</th>\n",
              "      <th>feature7</th>\n",
              "      <th>feature8</th>\n",
              "      <th>feature9</th>\n",
              "      <th>feature10</th>\n",
              "      <th>feature11</th>\n",
              "      <th>feature12</th>\n",
              "      <th>feature13</th>\n",
              "      <th>feature14</th>\n",
              "      <th>feature15</th>\n",
              "      <th>feature16</th>\n",
              "      <th>feature17</th>\n",
              "      <th>feature18</th>\n",
              "      <th>feature19</th>\n",
              "      <th>feature20</th>\n",
              "      <th>feature21</th>\n",
              "      <th>feature22</th>\n",
              "      <th>feature23</th>\n",
              "      <th>feature24</th>\n",
              "      <th>feature25</th>\n",
              "      <th>feature26</th>\n",
              "      <th>feature27</th>\n",
              "      <th>feature28</th>\n",
              "      <th>feature29</th>\n",
              "      <th>feature30</th>\n",
              "      <th>feature31</th>\n",
              "      <th>feature32</th>\n",
              "      <th>feature33</th>\n",
              "      <th>feature34</th>\n",
              "      <th>label</th>\n",
              "    </tr>\n",
              "  </thead>\n",
              "  <tbody>\n",
              "    <tr>\n",
              "      <th>0</th>\n",
              "      <td>1</td>\n",
              "      <td>0.99539</td>\n",
              "      <td>-0.05889</td>\n",
              "      <td>0.85243</td>\n",
              "      <td>0.02306</td>\n",
              "      <td>0.83398</td>\n",
              "      <td>-0.37708</td>\n",
              "      <td>1.00000</td>\n",
              "      <td>0.03760</td>\n",
              "      <td>0.85243</td>\n",
              "      <td>-0.17755</td>\n",
              "      <td>0.59755</td>\n",
              "      <td>-0.44945</td>\n",
              "      <td>0.60536</td>\n",
              "      <td>-0.38223</td>\n",
              "      <td>0.84356</td>\n",
              "      <td>-0.38542</td>\n",
              "      <td>0.58212</td>\n",
              "      <td>-0.32192</td>\n",
              "      <td>0.56971</td>\n",
              "      <td>-0.29674</td>\n",
              "      <td>0.36946</td>\n",
              "      <td>-0.47357</td>\n",
              "      <td>0.56811</td>\n",
              "      <td>-0.51171</td>\n",
              "      <td>0.41078</td>\n",
              "      <td>-0.46168</td>\n",
              "      <td>0.21266</td>\n",
              "      <td>-0.34090</td>\n",
              "      <td>0.42267</td>\n",
              "      <td>-0.54487</td>\n",
              "      <td>0.18641</td>\n",
              "      <td>-0.45300</td>\n",
              "      <td>g</td>\n",
              "    </tr>\n",
              "    <tr>\n",
              "      <th>1</th>\n",
              "      <td>1</td>\n",
              "      <td>1.00000</td>\n",
              "      <td>-0.18829</td>\n",
              "      <td>0.93035</td>\n",
              "      <td>-0.36156</td>\n",
              "      <td>-0.10868</td>\n",
              "      <td>-0.93597</td>\n",
              "      <td>1.00000</td>\n",
              "      <td>-0.04549</td>\n",
              "      <td>0.50874</td>\n",
              "      <td>-0.67743</td>\n",
              "      <td>0.34432</td>\n",
              "      <td>-0.69707</td>\n",
              "      <td>-0.51685</td>\n",
              "      <td>-0.97515</td>\n",
              "      <td>0.05499</td>\n",
              "      <td>-0.62237</td>\n",
              "      <td>0.33109</td>\n",
              "      <td>-1.00000</td>\n",
              "      <td>-0.13151</td>\n",
              "      <td>-0.45300</td>\n",
              "      <td>-0.18056</td>\n",
              "      <td>-0.35734</td>\n",
              "      <td>-0.20332</td>\n",
              "      <td>-0.26569</td>\n",
              "      <td>-0.20468</td>\n",
              "      <td>-0.18401</td>\n",
              "      <td>-0.19040</td>\n",
              "      <td>-0.11593</td>\n",
              "      <td>-0.16626</td>\n",
              "      <td>-0.06288</td>\n",
              "      <td>-0.13738</td>\n",
              "      <td>-0.02447</td>\n",
              "      <td>b</td>\n",
              "    </tr>\n",
              "    <tr>\n",
              "      <th>2</th>\n",
              "      <td>1</td>\n",
              "      <td>1.00000</td>\n",
              "      <td>-0.03365</td>\n",
              "      <td>1.00000</td>\n",
              "      <td>0.00485</td>\n",
              "      <td>1.00000</td>\n",
              "      <td>-0.12062</td>\n",
              "      <td>0.88965</td>\n",
              "      <td>0.01198</td>\n",
              "      <td>0.73082</td>\n",
              "      <td>0.05346</td>\n",
              "      <td>0.85443</td>\n",
              "      <td>0.00827</td>\n",
              "      <td>0.54591</td>\n",
              "      <td>0.00299</td>\n",
              "      <td>0.83775</td>\n",
              "      <td>-0.13644</td>\n",
              "      <td>0.75535</td>\n",
              "      <td>-0.08540</td>\n",
              "      <td>0.70887</td>\n",
              "      <td>-0.27502</td>\n",
              "      <td>0.43385</td>\n",
              "      <td>-0.12062</td>\n",
              "      <td>0.57528</td>\n",
              "      <td>-0.40220</td>\n",
              "      <td>0.58984</td>\n",
              "      <td>-0.22145</td>\n",
              "      <td>0.43100</td>\n",
              "      <td>-0.17365</td>\n",
              "      <td>0.60436</td>\n",
              "      <td>-0.24180</td>\n",
              "      <td>0.56045</td>\n",
              "      <td>-0.38238</td>\n",
              "      <td>g</td>\n",
              "    </tr>\n",
              "    <tr>\n",
              "      <th>3</th>\n",
              "      <td>1</td>\n",
              "      <td>1.00000</td>\n",
              "      <td>-0.45161</td>\n",
              "      <td>1.00000</td>\n",
              "      <td>1.00000</td>\n",
              "      <td>0.71216</td>\n",
              "      <td>-1.00000</td>\n",
              "      <td>0.00000</td>\n",
              "      <td>0.00000</td>\n",
              "      <td>0.00000</td>\n",
              "      <td>0.00000</td>\n",
              "      <td>0.00000</td>\n",
              "      <td>0.00000</td>\n",
              "      <td>-1.00000</td>\n",
              "      <td>0.14516</td>\n",
              "      <td>0.54094</td>\n",
              "      <td>-0.39330</td>\n",
              "      <td>-1.00000</td>\n",
              "      <td>-0.54467</td>\n",
              "      <td>-0.69975</td>\n",
              "      <td>1.00000</td>\n",
              "      <td>0.00000</td>\n",
              "      <td>0.00000</td>\n",
              "      <td>1.00000</td>\n",
              "      <td>0.90695</td>\n",
              "      <td>0.51613</td>\n",
              "      <td>1.00000</td>\n",
              "      <td>1.00000</td>\n",
              "      <td>-0.20099</td>\n",
              "      <td>0.25682</td>\n",
              "      <td>1.00000</td>\n",
              "      <td>-0.32382</td>\n",
              "      <td>1.00000</td>\n",
              "      <td>b</td>\n",
              "    </tr>\n",
              "    <tr>\n",
              "      <th>4</th>\n",
              "      <td>1</td>\n",
              "      <td>1.00000</td>\n",
              "      <td>-0.02401</td>\n",
              "      <td>0.94140</td>\n",
              "      <td>0.06531</td>\n",
              "      <td>0.92106</td>\n",
              "      <td>-0.23255</td>\n",
              "      <td>0.77152</td>\n",
              "      <td>-0.16399</td>\n",
              "      <td>0.52798</td>\n",
              "      <td>-0.20275</td>\n",
              "      <td>0.56409</td>\n",
              "      <td>-0.00712</td>\n",
              "      <td>0.34395</td>\n",
              "      <td>-0.27457</td>\n",
              "      <td>0.52940</td>\n",
              "      <td>-0.21780</td>\n",
              "      <td>0.45107</td>\n",
              "      <td>-0.17813</td>\n",
              "      <td>0.05982</td>\n",
              "      <td>-0.35575</td>\n",
              "      <td>0.02309</td>\n",
              "      <td>-0.52879</td>\n",
              "      <td>0.03286</td>\n",
              "      <td>-0.65158</td>\n",
              "      <td>0.13290</td>\n",
              "      <td>-0.53206</td>\n",
              "      <td>0.02431</td>\n",
              "      <td>-0.62197</td>\n",
              "      <td>-0.05707</td>\n",
              "      <td>-0.59573</td>\n",
              "      <td>-0.04608</td>\n",
              "      <td>-0.65697</td>\n",
              "      <td>g</td>\n",
              "    </tr>\n",
              "  </tbody>\n",
              "</table>\n",
              "</div>"
            ],
            "text/plain": [
              "   feature1  feature3  feature4  ...  feature33  feature34  label\n",
              "0         1   0.99539  -0.05889  ...    0.18641   -0.45300      g\n",
              "1         1   1.00000  -0.18829  ...   -0.13738   -0.02447      b\n",
              "2         1   1.00000  -0.03365  ...    0.56045   -0.38238      g\n",
              "3         1   1.00000  -0.45161  ...   -0.32382    1.00000      b\n",
              "4         1   1.00000  -0.02401  ...   -0.04608   -0.65697      g\n",
              "\n",
              "[5 rows x 34 columns]"
            ]
          },
          "metadata": {
            "tags": []
          },
          "execution_count": 10
        }
      ]
    },
    {
      "cell_type": "code",
      "metadata": {
        "colab": {
          "base_uri": "https://localhost:8080/"
        },
        "id": "2KnU0C5POvTW",
        "outputId": "ed16a8bb-ecaa-4d25-9592-1695e9250dca"
      },
      "source": [
        "df.info()"
      ],
      "execution_count": null,
      "outputs": [
        {
          "output_type": "stream",
          "text": [
            "<class 'pandas.core.frame.DataFrame'>\n",
            "RangeIndex: 351 entries, 0 to 350\n",
            "Data columns (total 34 columns):\n",
            " #   Column     Non-Null Count  Dtype  \n",
            "---  ------     --------------  -----  \n",
            " 0   feature1   351 non-null    int64  \n",
            " 1   feature3   351 non-null    float64\n",
            " 2   feature4   351 non-null    float64\n",
            " 3   feature5   351 non-null    float64\n",
            " 4   feature6   351 non-null    float64\n",
            " 5   feature7   351 non-null    float64\n",
            " 6   feature8   351 non-null    float64\n",
            " 7   feature9   351 non-null    float64\n",
            " 8   feature10  351 non-null    float64\n",
            " 9   feature11  351 non-null    float64\n",
            " 10  feature12  351 non-null    float64\n",
            " 11  feature13  351 non-null    float64\n",
            " 12  feature14  351 non-null    float64\n",
            " 13  feature15  351 non-null    float64\n",
            " 14  feature16  351 non-null    float64\n",
            " 15  feature17  351 non-null    float64\n",
            " 16  feature18  351 non-null    float64\n",
            " 17  feature19  351 non-null    float64\n",
            " 18  feature20  351 non-null    float64\n",
            " 19  feature21  351 non-null    float64\n",
            " 20  feature22  351 non-null    float64\n",
            " 21  feature23  351 non-null    float64\n",
            " 22  feature24  351 non-null    float64\n",
            " 23  feature25  351 non-null    float64\n",
            " 24  feature26  351 non-null    float64\n",
            " 25  feature27  351 non-null    float64\n",
            " 26  feature28  351 non-null    float64\n",
            " 27  feature29  351 non-null    float64\n",
            " 28  feature30  351 non-null    float64\n",
            " 29  feature31  351 non-null    float64\n",
            " 30  feature32  351 non-null    float64\n",
            " 31  feature33  351 non-null    float64\n",
            " 32  feature34  351 non-null    float64\n",
            " 33  label      351 non-null    object \n",
            "dtypes: float64(32), int64(1), object(1)\n",
            "memory usage: 93.4+ KB\n"
          ],
          "name": "stdout"
        }
      ]
    },
    {
      "cell_type": "code",
      "metadata": {
        "colab": {
          "base_uri": "https://localhost:8080/",
          "height": 317
        },
        "id": "JH8EP7NuO-n7",
        "outputId": "0429b903-f76f-46d9-e12e-b13e77b09d85"
      },
      "source": [
        "df.describe()"
      ],
      "execution_count": null,
      "outputs": [
        {
          "output_type": "execute_result",
          "data": {
            "text/html": [
              "<div>\n",
              "<style scoped>\n",
              "    .dataframe tbody tr th:only-of-type {\n",
              "        vertical-align: middle;\n",
              "    }\n",
              "\n",
              "    .dataframe tbody tr th {\n",
              "        vertical-align: top;\n",
              "    }\n",
              "\n",
              "    .dataframe thead th {\n",
              "        text-align: right;\n",
              "    }\n",
              "</style>\n",
              "<table border=\"1\" class=\"dataframe\">\n",
              "  <thead>\n",
              "    <tr style=\"text-align: right;\">\n",
              "      <th></th>\n",
              "      <th>feature1</th>\n",
              "      <th>feature3</th>\n",
              "      <th>feature4</th>\n",
              "      <th>feature5</th>\n",
              "      <th>feature6</th>\n",
              "      <th>feature7</th>\n",
              "      <th>feature8</th>\n",
              "      <th>feature9</th>\n",
              "      <th>feature10</th>\n",
              "      <th>feature11</th>\n",
              "      <th>feature12</th>\n",
              "      <th>feature13</th>\n",
              "      <th>feature14</th>\n",
              "      <th>feature15</th>\n",
              "      <th>feature16</th>\n",
              "      <th>feature17</th>\n",
              "      <th>feature18</th>\n",
              "      <th>feature19</th>\n",
              "      <th>feature20</th>\n",
              "      <th>feature21</th>\n",
              "      <th>feature22</th>\n",
              "      <th>feature23</th>\n",
              "      <th>feature24</th>\n",
              "      <th>feature25</th>\n",
              "      <th>feature26</th>\n",
              "      <th>feature27</th>\n",
              "      <th>feature28</th>\n",
              "      <th>feature29</th>\n",
              "      <th>feature30</th>\n",
              "      <th>feature31</th>\n",
              "      <th>feature32</th>\n",
              "      <th>feature33</th>\n",
              "      <th>feature34</th>\n",
              "    </tr>\n",
              "  </thead>\n",
              "  <tbody>\n",
              "    <tr>\n",
              "      <th>count</th>\n",
              "      <td>351.000000</td>\n",
              "      <td>351.000000</td>\n",
              "      <td>351.000000</td>\n",
              "      <td>351.000000</td>\n",
              "      <td>351.000000</td>\n",
              "      <td>351.000000</td>\n",
              "      <td>351.000000</td>\n",
              "      <td>351.000000</td>\n",
              "      <td>351.000000</td>\n",
              "      <td>351.000000</td>\n",
              "      <td>351.000000</td>\n",
              "      <td>351.000000</td>\n",
              "      <td>351.000000</td>\n",
              "      <td>351.000000</td>\n",
              "      <td>351.000000</td>\n",
              "      <td>351.000000</td>\n",
              "      <td>351.000000</td>\n",
              "      <td>351.000000</td>\n",
              "      <td>351.000000</td>\n",
              "      <td>351.000000</td>\n",
              "      <td>351.000000</td>\n",
              "      <td>351.000000</td>\n",
              "      <td>351.000000</td>\n",
              "      <td>351.000000</td>\n",
              "      <td>351.000000</td>\n",
              "      <td>351.000000</td>\n",
              "      <td>351.000000</td>\n",
              "      <td>351.000000</td>\n",
              "      <td>351.000000</td>\n",
              "      <td>351.000000</td>\n",
              "      <td>351.000000</td>\n",
              "      <td>351.000000</td>\n",
              "      <td>351.000000</td>\n",
              "    </tr>\n",
              "    <tr>\n",
              "      <th>mean</th>\n",
              "      <td>0.891738</td>\n",
              "      <td>0.641342</td>\n",
              "      <td>0.044372</td>\n",
              "      <td>0.601068</td>\n",
              "      <td>0.115889</td>\n",
              "      <td>0.550095</td>\n",
              "      <td>0.119360</td>\n",
              "      <td>0.511848</td>\n",
              "      <td>0.181345</td>\n",
              "      <td>0.476183</td>\n",
              "      <td>0.155040</td>\n",
              "      <td>0.400801</td>\n",
              "      <td>0.093414</td>\n",
              "      <td>0.344159</td>\n",
              "      <td>0.071132</td>\n",
              "      <td>0.381949</td>\n",
              "      <td>-0.003617</td>\n",
              "      <td>0.359390</td>\n",
              "      <td>-0.024025</td>\n",
              "      <td>0.336695</td>\n",
              "      <td>0.008296</td>\n",
              "      <td>0.362475</td>\n",
              "      <td>-0.057406</td>\n",
              "      <td>0.396135</td>\n",
              "      <td>-0.071187</td>\n",
              "      <td>0.541641</td>\n",
              "      <td>-0.069538</td>\n",
              "      <td>0.378445</td>\n",
              "      <td>-0.027907</td>\n",
              "      <td>0.352514</td>\n",
              "      <td>-0.003794</td>\n",
              "      <td>0.349364</td>\n",
              "      <td>0.014480</td>\n",
              "    </tr>\n",
              "    <tr>\n",
              "      <th>std</th>\n",
              "      <td>0.311155</td>\n",
              "      <td>0.497708</td>\n",
              "      <td>0.441435</td>\n",
              "      <td>0.519862</td>\n",
              "      <td>0.460810</td>\n",
              "      <td>0.492654</td>\n",
              "      <td>0.520750</td>\n",
              "      <td>0.507066</td>\n",
              "      <td>0.483851</td>\n",
              "      <td>0.563496</td>\n",
              "      <td>0.494817</td>\n",
              "      <td>0.622186</td>\n",
              "      <td>0.494873</td>\n",
              "      <td>0.652828</td>\n",
              "      <td>0.458371</td>\n",
              "      <td>0.618020</td>\n",
              "      <td>0.496762</td>\n",
              "      <td>0.626267</td>\n",
              "      <td>0.519076</td>\n",
              "      <td>0.609828</td>\n",
              "      <td>0.518166</td>\n",
              "      <td>0.603767</td>\n",
              "      <td>0.527456</td>\n",
              "      <td>0.578451</td>\n",
              "      <td>0.508495</td>\n",
              "      <td>0.516205</td>\n",
              "      <td>0.550025</td>\n",
              "      <td>0.575886</td>\n",
              "      <td>0.507974</td>\n",
              "      <td>0.571483</td>\n",
              "      <td>0.513574</td>\n",
              "      <td>0.522663</td>\n",
              "      <td>0.468337</td>\n",
              "    </tr>\n",
              "    <tr>\n",
              "      <th>min</th>\n",
              "      <td>0.000000</td>\n",
              "      <td>-1.000000</td>\n",
              "      <td>-1.000000</td>\n",
              "      <td>-1.000000</td>\n",
              "      <td>-1.000000</td>\n",
              "      <td>-1.000000</td>\n",
              "      <td>-1.000000</td>\n",
              "      <td>-1.000000</td>\n",
              "      <td>-1.000000</td>\n",
              "      <td>-1.000000</td>\n",
              "      <td>-1.000000</td>\n",
              "      <td>-1.000000</td>\n",
              "      <td>-1.000000</td>\n",
              "      <td>-1.000000</td>\n",
              "      <td>-1.000000</td>\n",
              "      <td>-1.000000</td>\n",
              "      <td>-1.000000</td>\n",
              "      <td>-1.000000</td>\n",
              "      <td>-1.000000</td>\n",
              "      <td>-1.000000</td>\n",
              "      <td>-1.000000</td>\n",
              "      <td>-1.000000</td>\n",
              "      <td>-1.000000</td>\n",
              "      <td>-1.000000</td>\n",
              "      <td>-1.000000</td>\n",
              "      <td>-1.000000</td>\n",
              "      <td>-1.000000</td>\n",
              "      <td>-1.000000</td>\n",
              "      <td>-1.000000</td>\n",
              "      <td>-1.000000</td>\n",
              "      <td>-1.000000</td>\n",
              "      <td>-1.000000</td>\n",
              "      <td>-1.000000</td>\n",
              "    </tr>\n",
              "    <tr>\n",
              "      <th>25%</th>\n",
              "      <td>1.000000</td>\n",
              "      <td>0.472135</td>\n",
              "      <td>-0.064735</td>\n",
              "      <td>0.412660</td>\n",
              "      <td>-0.024795</td>\n",
              "      <td>0.211310</td>\n",
              "      <td>-0.054840</td>\n",
              "      <td>0.087110</td>\n",
              "      <td>-0.048075</td>\n",
              "      <td>0.021120</td>\n",
              "      <td>-0.065265</td>\n",
              "      <td>0.000000</td>\n",
              "      <td>-0.073725</td>\n",
              "      <td>0.000000</td>\n",
              "      <td>-0.081705</td>\n",
              "      <td>0.000000</td>\n",
              "      <td>-0.225690</td>\n",
              "      <td>0.000000</td>\n",
              "      <td>-0.234670</td>\n",
              "      <td>0.000000</td>\n",
              "      <td>-0.243870</td>\n",
              "      <td>0.000000</td>\n",
              "      <td>-0.366885</td>\n",
              "      <td>0.000000</td>\n",
              "      <td>-0.332390</td>\n",
              "      <td>0.286435</td>\n",
              "      <td>-0.443165</td>\n",
              "      <td>0.000000</td>\n",
              "      <td>-0.236885</td>\n",
              "      <td>0.000000</td>\n",
              "      <td>-0.242595</td>\n",
              "      <td>0.000000</td>\n",
              "      <td>-0.165350</td>\n",
              "    </tr>\n",
              "    <tr>\n",
              "      <th>50%</th>\n",
              "      <td>1.000000</td>\n",
              "      <td>0.871110</td>\n",
              "      <td>0.016310</td>\n",
              "      <td>0.809200</td>\n",
              "      <td>0.022800</td>\n",
              "      <td>0.728730</td>\n",
              "      <td>0.014710</td>\n",
              "      <td>0.684210</td>\n",
              "      <td>0.018290</td>\n",
              "      <td>0.667980</td>\n",
              "      <td>0.028250</td>\n",
              "      <td>0.644070</td>\n",
              "      <td>0.030270</td>\n",
              "      <td>0.601940</td>\n",
              "      <td>0.000000</td>\n",
              "      <td>0.590910</td>\n",
              "      <td>0.000000</td>\n",
              "      <td>0.576190</td>\n",
              "      <td>0.000000</td>\n",
              "      <td>0.499090</td>\n",
              "      <td>0.000000</td>\n",
              "      <td>0.531760</td>\n",
              "      <td>0.000000</td>\n",
              "      <td>0.553890</td>\n",
              "      <td>-0.015050</td>\n",
              "      <td>0.708240</td>\n",
              "      <td>-0.017690</td>\n",
              "      <td>0.496640</td>\n",
              "      <td>0.000000</td>\n",
              "      <td>0.442770</td>\n",
              "      <td>0.000000</td>\n",
              "      <td>0.409560</td>\n",
              "      <td>0.000000</td>\n",
              "    </tr>\n",
              "    <tr>\n",
              "      <th>75%</th>\n",
              "      <td>1.000000</td>\n",
              "      <td>1.000000</td>\n",
              "      <td>0.194185</td>\n",
              "      <td>1.000000</td>\n",
              "      <td>0.334655</td>\n",
              "      <td>0.969240</td>\n",
              "      <td>0.445675</td>\n",
              "      <td>0.953240</td>\n",
              "      <td>0.534195</td>\n",
              "      <td>0.957895</td>\n",
              "      <td>0.482375</td>\n",
              "      <td>0.955505</td>\n",
              "      <td>0.374860</td>\n",
              "      <td>0.919330</td>\n",
              "      <td>0.308975</td>\n",
              "      <td>0.935705</td>\n",
              "      <td>0.195285</td>\n",
              "      <td>0.899265</td>\n",
              "      <td>0.134370</td>\n",
              "      <td>0.894865</td>\n",
              "      <td>0.188760</td>\n",
              "      <td>0.911235</td>\n",
              "      <td>0.164630</td>\n",
              "      <td>0.905240</td>\n",
              "      <td>0.156765</td>\n",
              "      <td>0.999945</td>\n",
              "      <td>0.153535</td>\n",
              "      <td>0.883465</td>\n",
              "      <td>0.154075</td>\n",
              "      <td>0.857620</td>\n",
              "      <td>0.200120</td>\n",
              "      <td>0.813765</td>\n",
              "      <td>0.171660</td>\n",
              "    </tr>\n",
              "    <tr>\n",
              "      <th>max</th>\n",
              "      <td>1.000000</td>\n",
              "      <td>1.000000</td>\n",
              "      <td>1.000000</td>\n",
              "      <td>1.000000</td>\n",
              "      <td>1.000000</td>\n",
              "      <td>1.000000</td>\n",
              "      <td>1.000000</td>\n",
              "      <td>1.000000</td>\n",
              "      <td>1.000000</td>\n",
              "      <td>1.000000</td>\n",
              "      <td>1.000000</td>\n",
              "      <td>1.000000</td>\n",
              "      <td>1.000000</td>\n",
              "      <td>1.000000</td>\n",
              "      <td>1.000000</td>\n",
              "      <td>1.000000</td>\n",
              "      <td>1.000000</td>\n",
              "      <td>1.000000</td>\n",
              "      <td>1.000000</td>\n",
              "      <td>1.000000</td>\n",
              "      <td>1.000000</td>\n",
              "      <td>1.000000</td>\n",
              "      <td>1.000000</td>\n",
              "      <td>1.000000</td>\n",
              "      <td>1.000000</td>\n",
              "      <td>1.000000</td>\n",
              "      <td>1.000000</td>\n",
              "      <td>1.000000</td>\n",
              "      <td>1.000000</td>\n",
              "      <td>1.000000</td>\n",
              "      <td>1.000000</td>\n",
              "      <td>1.000000</td>\n",
              "      <td>1.000000</td>\n",
              "    </tr>\n",
              "  </tbody>\n",
              "</table>\n",
              "</div>"
            ],
            "text/plain": [
              "         feature1    feature3    feature4  ...   feature32   feature33   feature34\n",
              "count  351.000000  351.000000  351.000000  ...  351.000000  351.000000  351.000000\n",
              "mean     0.891738    0.641342    0.044372  ...   -0.003794    0.349364    0.014480\n",
              "std      0.311155    0.497708    0.441435  ...    0.513574    0.522663    0.468337\n",
              "min      0.000000   -1.000000   -1.000000  ...   -1.000000   -1.000000   -1.000000\n",
              "25%      1.000000    0.472135   -0.064735  ...   -0.242595    0.000000   -0.165350\n",
              "50%      1.000000    0.871110    0.016310  ...    0.000000    0.409560    0.000000\n",
              "75%      1.000000    1.000000    0.194185  ...    0.200120    0.813765    0.171660\n",
              "max      1.000000    1.000000    1.000000  ...    1.000000    1.000000    1.000000\n",
              "\n",
              "[8 rows x 33 columns]"
            ]
          },
          "metadata": {
            "tags": []
          },
          "execution_count": 12
        }
      ]
    },
    {
      "cell_type": "code",
      "metadata": {
        "colab": {
          "base_uri": "https://localhost:8080/"
        },
        "id": "eCI0xhRCPDjQ",
        "outputId": "17668f17-30b9-40b9-d402-4280296fc9b5"
      },
      "source": [
        "df.isnull().sum()"
      ],
      "execution_count": null,
      "outputs": [
        {
          "output_type": "execute_result",
          "data": {
            "text/plain": [
              "feature1     0\n",
              "feature3     0\n",
              "feature4     0\n",
              "feature5     0\n",
              "feature6     0\n",
              "feature7     0\n",
              "feature8     0\n",
              "feature9     0\n",
              "feature10    0\n",
              "feature11    0\n",
              "feature12    0\n",
              "feature13    0\n",
              "feature14    0\n",
              "feature15    0\n",
              "feature16    0\n",
              "feature17    0\n",
              "feature18    0\n",
              "feature19    0\n",
              "feature20    0\n",
              "feature21    0\n",
              "feature22    0\n",
              "feature23    0\n",
              "feature24    0\n",
              "feature25    0\n",
              "feature26    0\n",
              "feature27    0\n",
              "feature28    0\n",
              "feature29    0\n",
              "feature30    0\n",
              "feature31    0\n",
              "feature32    0\n",
              "feature33    0\n",
              "feature34    0\n",
              "label        0\n",
              "dtype: int64"
            ]
          },
          "metadata": {
            "tags": []
          },
          "execution_count": 13
        }
      ]
    },
    {
      "cell_type": "code",
      "metadata": {
        "id": "kj0oU8oHPFRq"
      },
      "source": [
        "df['label'] = [1 if lbl == 'g' else 0 for lbl in df['label']]"
      ],
      "execution_count": null,
      "outputs": []
    },
    {
      "cell_type": "code",
      "metadata": {
        "id": "1RMPosSaPO6J"
      },
      "source": [
        "train_data = df.sample(frac= 0.6, random_state=125)\n",
        "test_data = df.drop(train_data.index)"
      ],
      "execution_count": null,
      "outputs": []
    },
    {
      "cell_type": "code",
      "metadata": {
        "id": "i54cp1RiPSxS"
      },
      "source": [
        "train_label = train_data.iloc[:,-1]\n",
        "train_data = train_data.iloc[:,0:-1]\n",
        "test_label = test_data.iloc[:,-1]\n",
        "test_data = test_data.iloc[:,0:-1]"
      ],
      "execution_count": null,
      "outputs": []
    },
    {
      "cell_type": "code",
      "metadata": {
        "colab": {
          "base_uri": "https://localhost:8080/",
          "height": 224
        },
        "id": "ReOygWyIPU-o",
        "outputId": "f301eb78-075b-479d-a2e3-305ee9ebf2ff"
      },
      "source": [
        "train_data.head()"
      ],
      "execution_count": null,
      "outputs": [
        {
          "output_type": "execute_result",
          "data": {
            "text/html": [
              "<div>\n",
              "<style scoped>\n",
              "    .dataframe tbody tr th:only-of-type {\n",
              "        vertical-align: middle;\n",
              "    }\n",
              "\n",
              "    .dataframe tbody tr th {\n",
              "        vertical-align: top;\n",
              "    }\n",
              "\n",
              "    .dataframe thead th {\n",
              "        text-align: right;\n",
              "    }\n",
              "</style>\n",
              "<table border=\"1\" class=\"dataframe\">\n",
              "  <thead>\n",
              "    <tr style=\"text-align: right;\">\n",
              "      <th></th>\n",
              "      <th>feature1</th>\n",
              "      <th>feature3</th>\n",
              "      <th>feature4</th>\n",
              "      <th>feature5</th>\n",
              "      <th>feature6</th>\n",
              "      <th>feature7</th>\n",
              "      <th>feature8</th>\n",
              "      <th>feature9</th>\n",
              "      <th>feature10</th>\n",
              "      <th>feature11</th>\n",
              "      <th>feature12</th>\n",
              "      <th>feature13</th>\n",
              "      <th>feature14</th>\n",
              "      <th>feature15</th>\n",
              "      <th>feature16</th>\n",
              "      <th>feature17</th>\n",
              "      <th>feature18</th>\n",
              "      <th>feature19</th>\n",
              "      <th>feature20</th>\n",
              "      <th>feature21</th>\n",
              "      <th>feature22</th>\n",
              "      <th>feature23</th>\n",
              "      <th>feature24</th>\n",
              "      <th>feature25</th>\n",
              "      <th>feature26</th>\n",
              "      <th>feature27</th>\n",
              "      <th>feature28</th>\n",
              "      <th>feature29</th>\n",
              "      <th>feature30</th>\n",
              "      <th>feature31</th>\n",
              "      <th>feature32</th>\n",
              "      <th>feature33</th>\n",
              "      <th>feature34</th>\n",
              "    </tr>\n",
              "  </thead>\n",
              "  <tbody>\n",
              "    <tr>\n",
              "      <th>270</th>\n",
              "      <td>1</td>\n",
              "      <td>1.00000</td>\n",
              "      <td>0.08013</td>\n",
              "      <td>0.96775</td>\n",
              "      <td>-0.00482</td>\n",
              "      <td>0.96683</td>\n",
              "      <td>-0.00722</td>\n",
              "      <td>0.87980</td>\n",
              "      <td>-0.03923</td>\n",
              "      <td>1.00000</td>\n",
              "      <td>0.01419</td>\n",
              "      <td>0.96186</td>\n",
              "      <td>-0.01436</td>\n",
              "      <td>0.95947</td>\n",
              "      <td>-0.01671</td>\n",
              "      <td>0.98497</td>\n",
              "      <td>0.01002</td>\n",
              "      <td>0.91152</td>\n",
              "      <td>-0.08848</td>\n",
              "      <td>0.95016</td>\n",
              "      <td>-0.02364</td>\n",
              "      <td>0.94636</td>\n",
              "      <td>-0.02591</td>\n",
              "      <td>0.98164</td>\n",
              "      <td>0.02003</td>\n",
              "      <td>0.93772</td>\n",
              "      <td>-0.03034</td>\n",
              "      <td>1.00000</td>\n",
              "      <td>-0.05843</td>\n",
              "      <td>0.92774</td>\n",
              "      <td>-0.03464</td>\n",
              "      <td>0.92226</td>\n",
              "      <td>-0.03673</td>\n",
              "    </tr>\n",
              "    <tr>\n",
              "      <th>116</th>\n",
              "      <td>1</td>\n",
              "      <td>1.00000</td>\n",
              "      <td>-0.14754</td>\n",
              "      <td>1.00000</td>\n",
              "      <td>0.04918</td>\n",
              "      <td>0.57377</td>\n",
              "      <td>-0.01639</td>\n",
              "      <td>0.65574</td>\n",
              "      <td>0.01639</td>\n",
              "      <td>0.85246</td>\n",
              "      <td>-0.03279</td>\n",
              "      <td>0.72131</td>\n",
              "      <td>0.00000</td>\n",
              "      <td>0.68852</td>\n",
              "      <td>-0.16393</td>\n",
              "      <td>0.19672</td>\n",
              "      <td>-0.14754</td>\n",
              "      <td>0.65558</td>\n",
              "      <td>-0.17176</td>\n",
              "      <td>0.67213</td>\n",
              "      <td>0.03279</td>\n",
              "      <td>1.00000</td>\n",
              "      <td>-0.29508</td>\n",
              "      <td>0.31148</td>\n",
              "      <td>-0.34426</td>\n",
              "      <td>0.52385</td>\n",
              "      <td>-0.20325</td>\n",
              "      <td>0.32787</td>\n",
              "      <td>-0.03279</td>\n",
              "      <td>0.27869</td>\n",
              "      <td>-0.44262</td>\n",
              "      <td>0.49180</td>\n",
              "      <td>-0.06557</td>\n",
              "    </tr>\n",
              "    <tr>\n",
              "      <th>135</th>\n",
              "      <td>1</td>\n",
              "      <td>0.89706</td>\n",
              "      <td>0.38235</td>\n",
              "      <td>0.91176</td>\n",
              "      <td>0.37500</td>\n",
              "      <td>0.74265</td>\n",
              "      <td>0.67647</td>\n",
              "      <td>0.45588</td>\n",
              "      <td>0.77941</td>\n",
              "      <td>0.19118</td>\n",
              "      <td>0.88971</td>\n",
              "      <td>-0.02206</td>\n",
              "      <td>0.86029</td>\n",
              "      <td>-0.20588</td>\n",
              "      <td>0.82353</td>\n",
              "      <td>-0.37500</td>\n",
              "      <td>0.67647</td>\n",
              "      <td>-0.50000</td>\n",
              "      <td>0.47794</td>\n",
              "      <td>-0.73529</td>\n",
              "      <td>0.38235</td>\n",
              "      <td>-0.86029</td>\n",
              "      <td>0.08824</td>\n",
              "      <td>-0.74265</td>\n",
              "      <td>-0.12500</td>\n",
              "      <td>-0.67925</td>\n",
              "      <td>-0.24131</td>\n",
              "      <td>-0.55147</td>\n",
              "      <td>-0.42647</td>\n",
              "      <td>-0.44118</td>\n",
              "      <td>-0.50735</td>\n",
              "      <td>-0.28676</td>\n",
              "      <td>-0.56618</td>\n",
              "    </tr>\n",
              "    <tr>\n",
              "      <th>91</th>\n",
              "      <td>1</td>\n",
              "      <td>0.84557</td>\n",
              "      <td>-0.08580</td>\n",
              "      <td>-0.31745</td>\n",
              "      <td>-0.80553</td>\n",
              "      <td>-0.08961</td>\n",
              "      <td>-0.56435</td>\n",
              "      <td>0.80648</td>\n",
              "      <td>0.04576</td>\n",
              "      <td>0.89514</td>\n",
              "      <td>-0.00763</td>\n",
              "      <td>-0.18494</td>\n",
              "      <td>0.63966</td>\n",
              "      <td>-0.20019</td>\n",
              "      <td>-0.68065</td>\n",
              "      <td>0.85701</td>\n",
              "      <td>-0.11344</td>\n",
              "      <td>0.77979</td>\n",
              "      <td>-0.15729</td>\n",
              "      <td>-0.06959</td>\n",
              "      <td>0.50810</td>\n",
              "      <td>-0.34128</td>\n",
              "      <td>0.80934</td>\n",
              "      <td>0.78932</td>\n",
              "      <td>-0.03718</td>\n",
              "      <td>0.70882</td>\n",
              "      <td>-0.25288</td>\n",
              "      <td>0.77884</td>\n",
              "      <td>-0.14109</td>\n",
              "      <td>-0.21354</td>\n",
              "      <td>-0.78170</td>\n",
              "      <td>-0.18494</td>\n",
              "      <td>-0.59867</td>\n",
              "    </tr>\n",
              "    <tr>\n",
              "      <th>100</th>\n",
              "      <td>1</td>\n",
              "      <td>1.00000</td>\n",
              "      <td>-1.00000</td>\n",
              "      <td>0.00000</td>\n",
              "      <td>0.00000</td>\n",
              "      <td>0.77941</td>\n",
              "      <td>-0.99265</td>\n",
              "      <td>0.80882</td>\n",
              "      <td>0.55147</td>\n",
              "      <td>-0.41912</td>\n",
              "      <td>-0.94853</td>\n",
              "      <td>0.00000</td>\n",
              "      <td>0.00000</td>\n",
              "      <td>0.00000</td>\n",
              "      <td>0.00000</td>\n",
              "      <td>0.72059</td>\n",
              "      <td>-0.77206</td>\n",
              "      <td>0.73529</td>\n",
              "      <td>-0.60294</td>\n",
              "      <td>0.00000</td>\n",
              "      <td>0.00000</td>\n",
              "      <td>0.18382</td>\n",
              "      <td>-1.00000</td>\n",
              "      <td>-1.00000</td>\n",
              "      <td>-1.00000</td>\n",
              "      <td>-1.00000</td>\n",
              "      <td>-1.00000</td>\n",
              "      <td>1.00000</td>\n",
              "      <td>-1.00000</td>\n",
              "      <td>1.00000</td>\n",
              "      <td>-1.00000</td>\n",
              "      <td>0.00000</td>\n",
              "      <td>0.00000</td>\n",
              "    </tr>\n",
              "  </tbody>\n",
              "</table>\n",
              "</div>"
            ],
            "text/plain": [
              "     feature1  feature3  feature4  ...  feature32  feature33  feature34\n",
              "270         1   1.00000   0.08013  ...   -0.03464    0.92226   -0.03673\n",
              "116         1   1.00000  -0.14754  ...   -0.44262    0.49180   -0.06557\n",
              "135         1   0.89706   0.38235  ...   -0.50735   -0.28676   -0.56618\n",
              "91          1   0.84557  -0.08580  ...   -0.78170   -0.18494   -0.59867\n",
              "100         1   1.00000  -1.00000  ...   -1.00000    0.00000    0.00000\n",
              "\n",
              "[5 rows x 33 columns]"
            ]
          },
          "metadata": {
            "tags": []
          },
          "execution_count": 17
        }
      ]
    },
    {
      "cell_type": "code",
      "metadata": {
        "colab": {
          "base_uri": "https://localhost:8080/"
        },
        "id": "UeiWRQAGPaZC",
        "outputId": "79df2ced-c11f-45ae-81a2-75baaebccdef"
      },
      "source": [
        "train_label"
      ],
      "execution_count": null,
      "outputs": [
        {
          "output_type": "execute_result",
          "data": {
            "text/plain": [
              "270    1\n",
              "116    0\n",
              "135    1\n",
              "91     0\n",
              "100    0\n",
              "      ..\n",
              "213    1\n",
              "161    1\n",
              "141    1\n",
              "59     0\n",
              "113    1\n",
              "Name: label, Length: 211, dtype: int64"
            ]
          },
          "metadata": {
            "tags": []
          },
          "execution_count": 18
        }
      ]
    },
    {
      "cell_type": "code",
      "metadata": {
        "colab": {
          "base_uri": "https://localhost:8080/"
        },
        "id": "0L5jjwEFPf2p",
        "outputId": "e95e5071-dfef-4777-a955-440531ab793e"
      },
      "source": [
        "train_data.shape"
      ],
      "execution_count": null,
      "outputs": [
        {
          "output_type": "execute_result",
          "data": {
            "text/plain": [
              "(211, 33)"
            ]
          },
          "metadata": {
            "tags": []
          },
          "execution_count": 19
        }
      ]
    },
    {
      "cell_type": "code",
      "metadata": {
        "colab": {
          "base_uri": "https://localhost:8080/"
        },
        "id": "27aC_WCzQStf",
        "outputId": "0387c589-e461-49be-8a76-347672ef0d61"
      },
      "source": [
        "train_label.shape"
      ],
      "execution_count": null,
      "outputs": [
        {
          "output_type": "execute_result",
          "data": {
            "text/plain": [
              "(211,)"
            ]
          },
          "metadata": {
            "tags": []
          },
          "execution_count": 20
        }
      ]
    },
    {
      "cell_type": "code",
      "metadata": {
        "colab": {
          "base_uri": "https://localhost:8080/"
        },
        "id": "FEfzXFlAQUpA",
        "outputId": "59d5cce8-6573-41e0-8e7f-36ad4b7da478"
      },
      "source": [
        "test_label.shape"
      ],
      "execution_count": null,
      "outputs": [
        {
          "output_type": "execute_result",
          "data": {
            "text/plain": [
              "(140,)"
            ]
          },
          "metadata": {
            "tags": []
          },
          "execution_count": 21
        }
      ]
    },
    {
      "cell_type": "code",
      "metadata": {
        "colab": {
          "base_uri": "https://localhost:8080/"
        },
        "id": "zBf0z9MuQpBY",
        "outputId": "469037d5-4048-486f-e436-fa6af19bdf09"
      },
      "source": [
        "test_data.shape"
      ],
      "execution_count": null,
      "outputs": [
        {
          "output_type": "execute_result",
          "data": {
            "text/plain": [
              "(140, 33)"
            ]
          },
          "metadata": {
            "tags": []
          },
          "execution_count": 22
        }
      ]
    },
    {
      "cell_type": "code",
      "metadata": {
        "id": "ZnMlwVWGQsl5"
      },
      "source": [
        "train_data = train_data.to_numpy()"
      ],
      "execution_count": null,
      "outputs": []
    },
    {
      "cell_type": "code",
      "metadata": {
        "id": "s-lORITgRBmN"
      },
      "source": [
        "train_label = train_label.to_numpy().astype('float32')"
      ],
      "execution_count": null,
      "outputs": []
    },
    {
      "cell_type": "code",
      "metadata": {
        "id": "CadgMHJKRD3G"
      },
      "source": [
        "test_data = test_data.to_numpy()"
      ],
      "execution_count": null,
      "outputs": []
    },
    {
      "cell_type": "code",
      "metadata": {
        "id": "zhte05vyRGA9"
      },
      "source": [
        "test_label = test_label.to_numpy().astype('float32')"
      ],
      "execution_count": null,
      "outputs": []
    },
    {
      "cell_type": "code",
      "metadata": {
        "id": "MBUpnENDRM4X"
      },
      "source": [
        "from tensorflow.keras.models import Sequential\n",
        "from tensorflow.keras.layers import Dense, Dropout\n",
        "\n",
        "# Define model\n",
        "model = Sequential()\n",
        "model.add(Dense(64, activation='relu', input_shape=(train_data.shape[1],)))\n",
        "model.add(Dropout(0.2))\n",
        "model.add(Dense(64, activation='relu'))\n",
        "model.add(Dropout(0.2))\n",
        "model.add(Dense(1,  activation='sigmoid'))"
      ],
      "execution_count": null,
      "outputs": []
    },
    {
      "cell_type": "code",
      "metadata": {
        "id": "41LuBBQeRikP"
      },
      "source": [
        "from tensorflow.keras import optimizers\n",
        "\n",
        "model.compile(optimizer = 'RMSprop', loss='binary_crossentropy', metrics=['accuracy'])"
      ],
      "execution_count": null,
      "outputs": []
    },
    {
      "cell_type": "code",
      "metadata": {
        "colab": {
          "base_uri": "https://localhost:8080/"
        },
        "id": "w5sGOkbzRmNd",
        "outputId": "fe67f062-4c8e-4a8b-93e1-4a40ed914df7"
      },
      "source": [
        "history = model.fit(train_data, train_label, validation_split=0.2, epochs=100, batch_size = 16)"
      ],
      "execution_count": null,
      "outputs": [
        {
          "output_type": "stream",
          "text": [
            "Epoch 1/100\n",
            "11/11 [==============================] - 1s 47ms/step - loss: 0.7641 - accuracy: 0.4311 - val_loss: 0.5180 - val_accuracy: 0.7442\n",
            "Epoch 2/100\n",
            "11/11 [==============================] - 0s 5ms/step - loss: 0.5143 - accuracy: 0.7856 - val_loss: 0.4526 - val_accuracy: 0.7907\n",
            "Epoch 3/100\n",
            "11/11 [==============================] - 0s 5ms/step - loss: 0.4675 - accuracy: 0.8213 - val_loss: 0.4093 - val_accuracy: 0.8837\n",
            "Epoch 4/100\n",
            "11/11 [==============================] - 0s 5ms/step - loss: 0.4496 - accuracy: 0.8586 - val_loss: 0.3761 - val_accuracy: 0.8837\n",
            "Epoch 5/100\n",
            "11/11 [==============================] - 0s 6ms/step - loss: 0.3926 - accuracy: 0.8464 - val_loss: 0.3422 - val_accuracy: 0.8837\n",
            "Epoch 6/100\n",
            "11/11 [==============================] - 0s 5ms/step - loss: 0.3869 - accuracy: 0.8596 - val_loss: 0.3177 - val_accuracy: 0.8837\n",
            "Epoch 7/100\n",
            "11/11 [==============================] - 0s 5ms/step - loss: 0.3020 - accuracy: 0.9151 - val_loss: 0.2870 - val_accuracy: 0.9535\n",
            "Epoch 8/100\n",
            "11/11 [==============================] - 0s 5ms/step - loss: 0.2980 - accuracy: 0.8918 - val_loss: 0.2613 - val_accuracy: 0.9535\n",
            "Epoch 9/100\n",
            "11/11 [==============================] - 0s 5ms/step - loss: 0.2739 - accuracy: 0.9273 - val_loss: 0.2398 - val_accuracy: 0.9535\n",
            "Epoch 10/100\n",
            "11/11 [==============================] - 0s 6ms/step - loss: 0.2799 - accuracy: 0.9484 - val_loss: 0.2353 - val_accuracy: 0.9535\n",
            "Epoch 11/100\n",
            "11/11 [==============================] - 0s 6ms/step - loss: 0.2532 - accuracy: 0.9366 - val_loss: 0.2125 - val_accuracy: 0.9767\n",
            "Epoch 12/100\n",
            "11/11 [==============================] - 0s 6ms/step - loss: 0.1987 - accuracy: 0.9441 - val_loss: 0.1959 - val_accuracy: 0.9535\n",
            "Epoch 13/100\n",
            "11/11 [==============================] - 0s 6ms/step - loss: 0.2039 - accuracy: 0.9374 - val_loss: 0.1974 - val_accuracy: 0.9767\n",
            "Epoch 14/100\n",
            "11/11 [==============================] - 0s 5ms/step - loss: 0.1931 - accuracy: 0.9420 - val_loss: 0.1833 - val_accuracy: 0.9767\n",
            "Epoch 15/100\n",
            "11/11 [==============================] - 0s 6ms/step - loss: 0.1701 - accuracy: 0.9703 - val_loss: 0.1745 - val_accuracy: 0.9767\n",
            "Epoch 16/100\n",
            "11/11 [==============================] - 0s 6ms/step - loss: 0.1784 - accuracy: 0.9544 - val_loss: 0.1747 - val_accuracy: 0.9535\n",
            "Epoch 17/100\n",
            "11/11 [==============================] - 0s 6ms/step - loss: 0.1424 - accuracy: 0.9645 - val_loss: 0.1691 - val_accuracy: 0.9767\n",
            "Epoch 18/100\n",
            "11/11 [==============================] - 0s 6ms/step - loss: 0.1461 - accuracy: 0.9644 - val_loss: 0.1665 - val_accuracy: 0.9767\n",
            "Epoch 19/100\n",
            "11/11 [==============================] - 0s 6ms/step - loss: 0.1189 - accuracy: 0.9736 - val_loss: 0.1569 - val_accuracy: 0.9767\n",
            "Epoch 20/100\n",
            "11/11 [==============================] - 0s 7ms/step - loss: 0.1178 - accuracy: 0.9757 - val_loss: 0.1539 - val_accuracy: 0.9767\n",
            "Epoch 21/100\n",
            "11/11 [==============================] - 0s 6ms/step - loss: 0.1195 - accuracy: 0.9818 - val_loss: 0.1603 - val_accuracy: 0.9767\n",
            "Epoch 22/100\n",
            "11/11 [==============================] - 0s 6ms/step - loss: 0.1444 - accuracy: 0.9735 - val_loss: 0.1623 - val_accuracy: 0.9767\n",
            "Epoch 23/100\n",
            "11/11 [==============================] - 0s 6ms/step - loss: 0.1063 - accuracy: 0.9790 - val_loss: 0.1525 - val_accuracy: 0.9767\n",
            "Epoch 24/100\n",
            "11/11 [==============================] - 0s 6ms/step - loss: 0.0865 - accuracy: 0.9780 - val_loss: 0.1457 - val_accuracy: 0.9767\n",
            "Epoch 25/100\n",
            "11/11 [==============================] - 0s 6ms/step - loss: 0.1076 - accuracy: 0.9737 - val_loss: 0.1507 - val_accuracy: 0.9767\n",
            "Epoch 26/100\n",
            "11/11 [==============================] - 0s 6ms/step - loss: 0.1216 - accuracy: 0.9496 - val_loss: 0.1468 - val_accuracy: 0.9767\n",
            "Epoch 27/100\n",
            "11/11 [==============================] - 0s 6ms/step - loss: 0.1118 - accuracy: 0.9700 - val_loss: 0.1410 - val_accuracy: 0.9767\n",
            "Epoch 28/100\n",
            "11/11 [==============================] - 0s 6ms/step - loss: 0.1159 - accuracy: 0.9717 - val_loss: 0.1488 - val_accuracy: 0.9767\n",
            "Epoch 29/100\n",
            "11/11 [==============================] - 0s 6ms/step - loss: 0.1112 - accuracy: 0.9762 - val_loss: 0.1371 - val_accuracy: 0.9767\n",
            "Epoch 30/100\n",
            "11/11 [==============================] - 0s 6ms/step - loss: 0.0875 - accuracy: 0.9535 - val_loss: 0.1366 - val_accuracy: 0.9767\n",
            "Epoch 31/100\n",
            "11/11 [==============================] - 0s 6ms/step - loss: 0.0519 - accuracy: 0.9949 - val_loss: 0.1240 - val_accuracy: 0.9767\n",
            "Epoch 32/100\n",
            "11/11 [==============================] - 0s 6ms/step - loss: 0.0781 - accuracy: 0.9819 - val_loss: 0.1264 - val_accuracy: 0.9767\n",
            "Epoch 33/100\n",
            "11/11 [==============================] - 0s 6ms/step - loss: 0.0899 - accuracy: 0.9578 - val_loss: 0.1220 - val_accuracy: 0.9767\n",
            "Epoch 34/100\n",
            "11/11 [==============================] - 0s 6ms/step - loss: 0.1073 - accuracy: 0.9586 - val_loss: 0.1227 - val_accuracy: 0.9767\n",
            "Epoch 35/100\n",
            "11/11 [==============================] - 0s 6ms/step - loss: 0.0575 - accuracy: 0.9738 - val_loss: 0.1280 - val_accuracy: 0.9767\n",
            "Epoch 36/100\n",
            "11/11 [==============================] - 0s 6ms/step - loss: 0.1557 - accuracy: 0.9498 - val_loss: 0.0971 - val_accuracy: 0.9767\n",
            "Epoch 37/100\n",
            "11/11 [==============================] - 0s 5ms/step - loss: 0.0736 - accuracy: 0.9779 - val_loss: 0.1073 - val_accuracy: 0.9767\n",
            "Epoch 38/100\n",
            "11/11 [==============================] - 0s 5ms/step - loss: 0.0574 - accuracy: 0.9831 - val_loss: 0.1076 - val_accuracy: 0.9767\n",
            "Epoch 39/100\n",
            "11/11 [==============================] - 0s 6ms/step - loss: 0.0417 - accuracy: 0.9919 - val_loss: 0.0948 - val_accuracy: 0.9767\n",
            "Epoch 40/100\n",
            "11/11 [==============================] - 0s 5ms/step - loss: 0.0483 - accuracy: 0.9862 - val_loss: 0.0876 - val_accuracy: 0.9767\n",
            "Epoch 41/100\n",
            "11/11 [==============================] - 0s 5ms/step - loss: 0.0764 - accuracy: 0.9793 - val_loss: 0.0815 - val_accuracy: 0.9767\n",
            "Epoch 42/100\n",
            "11/11 [==============================] - 0s 5ms/step - loss: 0.0585 - accuracy: 0.9916 - val_loss: 0.0909 - val_accuracy: 0.9767\n",
            "Epoch 43/100\n",
            "11/11 [==============================] - 0s 6ms/step - loss: 0.0350 - accuracy: 0.9985 - val_loss: 0.0838 - val_accuracy: 0.9767\n",
            "Epoch 44/100\n",
            "11/11 [==============================] - 0s 5ms/step - loss: 0.0694 - accuracy: 0.9768 - val_loss: 0.0879 - val_accuracy: 0.9767\n",
            "Epoch 45/100\n",
            "11/11 [==============================] - 0s 6ms/step - loss: 0.0821 - accuracy: 0.9890 - val_loss: 0.0722 - val_accuracy: 0.9767\n",
            "Epoch 46/100\n",
            "11/11 [==============================] - 0s 6ms/step - loss: 0.0274 - accuracy: 0.9946 - val_loss: 0.0882 - val_accuracy: 0.9767\n",
            "Epoch 47/100\n",
            "11/11 [==============================] - 0s 5ms/step - loss: 0.0477 - accuracy: 0.9933 - val_loss: 0.0803 - val_accuracy: 0.9767\n",
            "Epoch 48/100\n",
            "11/11 [==============================] - 0s 6ms/step - loss: 0.0872 - accuracy: 0.9810 - val_loss: 0.0522 - val_accuracy: 0.9767\n",
            "Epoch 49/100\n",
            "11/11 [==============================] - 0s 6ms/step - loss: 0.0553 - accuracy: 0.9801 - val_loss: 0.0533 - val_accuracy: 0.9767\n",
            "Epoch 50/100\n",
            "11/11 [==============================] - 0s 6ms/step - loss: 0.0246 - accuracy: 0.9956 - val_loss: 0.0553 - val_accuracy: 0.9767\n",
            "Epoch 51/100\n",
            "11/11 [==============================] - 0s 6ms/step - loss: 0.0397 - accuracy: 0.9946 - val_loss: 0.0482 - val_accuracy: 0.9767\n",
            "Epoch 52/100\n",
            "11/11 [==============================] - 0s 6ms/step - loss: 0.0548 - accuracy: 0.9805 - val_loss: 0.0418 - val_accuracy: 0.9767\n",
            "Epoch 53/100\n",
            "11/11 [==============================] - 0s 6ms/step - loss: 0.0387 - accuracy: 0.9946 - val_loss: 0.0392 - val_accuracy: 0.9767\n",
            "Epoch 54/100\n",
            "11/11 [==============================] - 0s 5ms/step - loss: 0.0190 - accuracy: 0.9985 - val_loss: 0.0305 - val_accuracy: 0.9767\n",
            "Epoch 55/100\n",
            "11/11 [==============================] - 0s 6ms/step - loss: 0.0473 - accuracy: 0.9888 - val_loss: 0.0342 - val_accuracy: 0.9767\n",
            "Epoch 56/100\n",
            "11/11 [==============================] - 0s 6ms/step - loss: 0.0369 - accuracy: 0.9898 - val_loss: 0.0216 - val_accuracy: 1.0000\n",
            "Epoch 57/100\n",
            "11/11 [==============================] - 0s 5ms/step - loss: 0.0210 - accuracy: 0.9985 - val_loss: 0.0217 - val_accuracy: 1.0000\n",
            "Epoch 58/100\n",
            "11/11 [==============================] - 0s 6ms/step - loss: 0.0227 - accuracy: 0.9973 - val_loss: 0.0208 - val_accuracy: 1.0000\n",
            "Epoch 59/100\n",
            "11/11 [==============================] - 0s 6ms/step - loss: 0.0324 - accuracy: 0.9903 - val_loss: 0.0142 - val_accuracy: 1.0000\n",
            "Epoch 60/100\n",
            "11/11 [==============================] - 0s 6ms/step - loss: 0.0236 - accuracy: 0.9956 - val_loss: 0.0136 - val_accuracy: 1.0000\n",
            "Epoch 61/100\n",
            "11/11 [==============================] - 0s 7ms/step - loss: 0.0294 - accuracy: 0.9916 - val_loss: 0.0161 - val_accuracy: 1.0000\n",
            "Epoch 62/100\n",
            "11/11 [==============================] - 0s 6ms/step - loss: 0.0172 - accuracy: 0.9956 - val_loss: 0.0139 - val_accuracy: 1.0000\n",
            "Epoch 63/100\n",
            "11/11 [==============================] - 0s 5ms/step - loss: 0.0290 - accuracy: 0.9919 - val_loss: 0.0104 - val_accuracy: 1.0000\n",
            "Epoch 64/100\n",
            "11/11 [==============================] - 0s 6ms/step - loss: 0.0155 - accuracy: 0.9979 - val_loss: 0.0098 - val_accuracy: 1.0000\n",
            "Epoch 65/100\n",
            "11/11 [==============================] - 0s 5ms/step - loss: 0.0247 - accuracy: 0.9965 - val_loss: 0.0113 - val_accuracy: 1.0000\n",
            "Epoch 66/100\n",
            "11/11 [==============================] - 0s 6ms/step - loss: 0.0200 - accuracy: 0.9918 - val_loss: 0.0140 - val_accuracy: 1.0000\n",
            "Epoch 67/100\n",
            "11/11 [==============================] - 0s 5ms/step - loss: 0.0141 - accuracy: 0.9956 - val_loss: 0.0114 - val_accuracy: 1.0000\n",
            "Epoch 68/100\n",
            "11/11 [==============================] - 0s 5ms/step - loss: 0.0142 - accuracy: 0.9916 - val_loss: 0.0133 - val_accuracy: 1.0000\n",
            "Epoch 69/100\n",
            "11/11 [==============================] - 0s 5ms/step - loss: 0.0263 - accuracy: 0.9945 - val_loss: 0.0178 - val_accuracy: 1.0000\n",
            "Epoch 70/100\n",
            "11/11 [==============================] - 0s 6ms/step - loss: 0.0121 - accuracy: 0.9979 - val_loss: 0.0140 - val_accuracy: 1.0000\n",
            "Epoch 71/100\n",
            "11/11 [==============================] - 0s 5ms/step - loss: 0.0231 - accuracy: 0.9890 - val_loss: 0.0178 - val_accuracy: 1.0000\n",
            "Epoch 72/100\n",
            "11/11 [==============================] - 0s 7ms/step - loss: 0.0155 - accuracy: 1.0000 - val_loss: 0.0121 - val_accuracy: 1.0000\n",
            "Epoch 73/100\n",
            "11/11 [==============================] - 0s 6ms/step - loss: 0.0104 - accuracy: 1.0000 - val_loss: 0.0210 - val_accuracy: 1.0000\n",
            "Epoch 74/100\n",
            "11/11 [==============================] - 0s 6ms/step - loss: 0.0127 - accuracy: 1.0000 - val_loss: 0.0136 - val_accuracy: 1.0000\n",
            "Epoch 75/100\n",
            "11/11 [==============================] - 0s 6ms/step - loss: 0.0080 - accuracy: 1.0000 - val_loss: 0.0159 - val_accuracy: 1.0000\n",
            "Epoch 76/100\n",
            "11/11 [==============================] - 0s 6ms/step - loss: 0.0261 - accuracy: 0.9838 - val_loss: 0.0189 - val_accuracy: 1.0000\n",
            "Epoch 77/100\n",
            "11/11 [==============================] - 0s 6ms/step - loss: 0.0092 - accuracy: 1.0000 - val_loss: 0.0279 - val_accuracy: 1.0000\n",
            "Epoch 78/100\n",
            "11/11 [==============================] - 0s 6ms/step - loss: 0.0082 - accuracy: 1.0000 - val_loss: 0.0172 - val_accuracy: 1.0000\n",
            "Epoch 79/100\n",
            "11/11 [==============================] - 0s 6ms/step - loss: 0.0164 - accuracy: 0.9838 - val_loss: 0.0162 - val_accuracy: 1.0000\n",
            "Epoch 80/100\n",
            "11/11 [==============================] - 0s 7ms/step - loss: 0.0065 - accuracy: 0.9973 - val_loss: 0.0173 - val_accuracy: 1.0000\n",
            "Epoch 81/100\n",
            "11/11 [==============================] - 0s 6ms/step - loss: 0.0239 - accuracy: 0.9933 - val_loss: 0.0200 - val_accuracy: 1.0000\n",
            "Epoch 82/100\n",
            "11/11 [==============================] - 0s 6ms/step - loss: 0.0075 - accuracy: 1.0000 - val_loss: 0.0202 - val_accuracy: 1.0000\n",
            "Epoch 83/100\n",
            "11/11 [==============================] - 0s 6ms/step - loss: 0.0213 - accuracy: 0.9946 - val_loss: 0.0332 - val_accuracy: 0.9767\n",
            "Epoch 84/100\n",
            "11/11 [==============================] - 0s 6ms/step - loss: 0.0046 - accuracy: 1.0000 - val_loss: 0.0248 - val_accuracy: 1.0000\n",
            "Epoch 85/100\n",
            "11/11 [==============================] - 0s 6ms/step - loss: 0.0024 - accuracy: 1.0000 - val_loss: 0.0338 - val_accuracy: 0.9767\n",
            "Epoch 86/100\n",
            "11/11 [==============================] - 0s 5ms/step - loss: 0.0146 - accuracy: 0.9964 - val_loss: 0.0352 - val_accuracy: 0.9767\n",
            "Epoch 87/100\n",
            "11/11 [==============================] - 0s 6ms/step - loss: 0.0208 - accuracy: 0.9862 - val_loss: 0.0308 - val_accuracy: 0.9767\n",
            "Epoch 88/100\n",
            "11/11 [==============================] - 0s 6ms/step - loss: 0.0134 - accuracy: 0.9931 - val_loss: 0.0419 - val_accuracy: 0.9767\n",
            "Epoch 89/100\n",
            "11/11 [==============================] - 0s 6ms/step - loss: 0.0042 - accuracy: 1.0000 - val_loss: 0.0464 - val_accuracy: 0.9767\n",
            "Epoch 90/100\n",
            "11/11 [==============================] - 0s 6ms/step - loss: 0.0054 - accuracy: 0.9985 - val_loss: 0.0422 - val_accuracy: 0.9767\n",
            "Epoch 91/100\n",
            "11/11 [==============================] - 0s 7ms/step - loss: 0.0037 - accuracy: 1.0000 - val_loss: 0.0361 - val_accuracy: 0.9767\n",
            "Epoch 92/100\n",
            "11/11 [==============================] - 0s 6ms/step - loss: 0.0053 - accuracy: 1.0000 - val_loss: 0.0383 - val_accuracy: 0.9767\n",
            "Epoch 93/100\n",
            "11/11 [==============================] - 0s 6ms/step - loss: 0.0127 - accuracy: 0.9933 - val_loss: 0.0333 - val_accuracy: 0.9767\n",
            "Epoch 94/100\n",
            "11/11 [==============================] - 0s 6ms/step - loss: 0.0050 - accuracy: 1.0000 - val_loss: 0.0344 - val_accuracy: 0.9767\n",
            "Epoch 95/100\n",
            "11/11 [==============================] - 0s 6ms/step - loss: 0.0109 - accuracy: 0.9916 - val_loss: 0.0274 - val_accuracy: 1.0000\n",
            "Epoch 96/100\n",
            "11/11 [==============================] - 0s 6ms/step - loss: 0.0080 - accuracy: 0.9985 - val_loss: 0.0259 - val_accuracy: 1.0000\n",
            "Epoch 97/100\n",
            "11/11 [==============================] - 0s 5ms/step - loss: 0.0053 - accuracy: 1.0000 - val_loss: 0.0263 - val_accuracy: 0.9767\n",
            "Epoch 98/100\n",
            "11/11 [==============================] - 0s 6ms/step - loss: 0.0030 - accuracy: 1.0000 - val_loss: 0.0262 - val_accuracy: 0.9767\n",
            "Epoch 99/100\n",
            "11/11 [==============================] - 0s 6ms/step - loss: 0.0020 - accuracy: 1.0000 - val_loss: 0.0285 - val_accuracy: 0.9767\n",
            "Epoch 100/100\n",
            "11/11 [==============================] - 0s 6ms/step - loss: 0.0035 - accuracy: 1.0000 - val_loss: 0.0332 - val_accuracy: 0.9767\n"
          ],
          "name": "stdout"
        }
      ]
    },
    {
      "cell_type": "code",
      "metadata": {
        "colab": {
          "base_uri": "https://localhost:8080/"
        },
        "id": "dmePnZvPSDWg",
        "outputId": "f393d360-81c4-4239-b926-1b5ee639eb7f"
      },
      "source": [
        "history.history.keys()"
      ],
      "execution_count": null,
      "outputs": [
        {
          "output_type": "execute_result",
          "data": {
            "text/plain": [
              "dict_keys(['loss', 'accuracy', 'val_loss', 'val_accuracy'])"
            ]
          },
          "metadata": {
            "tags": []
          },
          "execution_count": 31
        }
      ]
    },
    {
      "cell_type": "code",
      "metadata": {
        "colab": {
          "base_uri": "https://localhost:8080/",
          "height": 295
        },
        "id": "YFihmN_LSFbq",
        "outputId": "5951592b-27f8-4db9-fe27-dc6e60c1a45c"
      },
      "source": [
        "history_dict = history.history\n",
        "loss_values = history_dict['loss']\n",
        "val_loss_values = history_dict['val_loss']\n",
        "\n",
        "epochs = range(100)\n",
        "plt.plot(epochs, loss_values, 'bo', label='Training loss')\n",
        "plt.plot(epochs, val_loss_values, 'b', label='Validation loss')\n",
        "plt.title('Training and validation loss')\n",
        "plt.xlabel('Epochs')\n",
        "plt.ylabel('Loss')\n",
        "plt.legend()\n",
        "plt.show()"
      ],
      "execution_count": null,
      "outputs": [
        {
          "output_type": "display_data",
          "data": {
            "image/png": "[encoded data removed]",
            "text/plain": [
              "<Figure size 432x288 with 1 Axes>"
            ]
          },
          "metadata": {
            "tags": [],
            "needs_background": "light"
          }
        }
      ]
    },
    {
      "cell_type": "code",
      "metadata": {
        "colab": {
          "base_uri": "https://localhost:8080/",
          "height": 295
        },
        "id": "E9mHYXJCTP5a",
        "outputId": "4f8c9b2e-494a-40e9-9ba7-177c8007acff"
      },
      "source": [
        "acc_values = history_dict['accuracy']\n",
        "val_acc_values = history_dict['val_accuracy']\n",
        "plt.plot(epochs, acc_values, 'bo', label='Training acc')\n",
        "plt.plot(epochs, val_acc_values, 'b', label='Validation acc')\n",
        "plt.title('Training and validation accuracy')\n",
        "plt.xlabel('Epochs')\n",
        "plt.ylabel('Loss')\n",
        "plt.legend()\n",
        "plt.show()"
      ],
      "execution_count": null,
      "outputs": [
        {
          "output_type": "display_data",
          "data": {
            "image/png": "[encoded data removed]",
            "text/plain": [
              "<Figure size 432x288 with 1 Axes>"
            ]
          },
          "metadata": {
            "tags": [],
            "needs_background": "light"
          }
        }
      ]
    },
    {
      "cell_type": "code",
      "metadata": {
        "colab": {
          "base_uri": "https://localhost:8080/"
        },
        "id": "oXE4wsGmTVM4",
        "outputId": "189cba89-8e66-452a-d198-570fb14389a4"
      },
      "source": [
        "score = model.evaluate(test_data, test_label)"
      ],
      "execution_count": null,
      "outputs": [
        {
          "output_type": "stream",
          "text": [
            "5/5 [==============================] - 0s 2ms/step - loss: 0.3015 - accuracy: 0.9286\n"
          ],
          "name": "stdout"
        }
      ]
    },
    {
      "cell_type": "code",
      "metadata": {
        "id": "BeGpD3B2TW3-"
      },
      "source": [
        "predictions=model.predict(test_data)"
      ],
      "execution_count": null,
      "outputs": []
    },
    {
      "cell_type": "code",
      "metadata": {
        "id": "aCKOQ52TTgkV"
      },
      "source": [
        "y_pred = (predictions > 0.5)"
      ],
      "execution_count": null,
      "outputs": []
    },
    {
      "cell_type": "code",
      "metadata": {
        "id": "BdlaIcrHTiwx",
        "colab": {
          "base_uri": "https://localhost:8080/"
        },
        "outputId": "fca04dac-9609-4955-d0c6-93b3b60f90ab"
      },
      "source": [
        "tf.math.confusion_matrix(\n",
        "    test_label, y_pred, num_classes=2, weights=None, dtype=tf.dtypes.int32,\n",
        "    name=None\n",
        ")"
      ],
      "execution_count": null,
      "outputs": [
        {
          "output_type": "execute_result",
          "data": {
            "text/plain": [
              "<tf.Tensor: shape=(2, 2), dtype=int32, numpy=\n",
              "array([[46,  9],\n",
              "       [ 1, 84]], dtype=int32)>"
            ]
          },
          "metadata": {
            "tags": []
          },
          "execution_count": 38
        }
      ]
    },
    {
      "cell_type": "code",
      "metadata": {
        "id": "XiYB0UfzTkzO",
        "colab": {
          "base_uri": "https://localhost:8080/"
        },
        "outputId": "cdfd631b-9887-4e16-fae7-ccad72dfa54e"
      },
      "source": [
        "np.count_nonzero(y_pred)"
      ],
      "execution_count": null,
      "outputs": [
        {
          "output_type": "execute_result",
          "data": {
            "text/plain": [
              "93"
            ]
          },
          "metadata": {
            "tags": []
          },
          "execution_count": 39
        }
      ]
    }
  ]
}