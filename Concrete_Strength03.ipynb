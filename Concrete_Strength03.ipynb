{
  "nbformat": 4,
  "nbformat_minor": 0,
  "metadata": {
    "colab": {
      "name": "Concrete_Strength03.ipynb",
      "provenance": [],
      "collapsed_sections": []
    },
    "kernelspec": {
      "name": "python3",
      "display_name": "Python 3"
    },
    "language_info": {
      "name": "python"
    }
  },
  "cells": [
    {
      "cell_type": "code",
      "metadata": {
        "id": "hcN6_uvR7icY"
      },
      "source": [
        ""
      ],
      "execution_count": null,
      "outputs": []
    },
    {
      "cell_type": "markdown",
      "metadata": {
        "id": "IJuLbA4q9zKw"
      },
      "source": [
        "**Concrete Strength**"
      ]
    },
    {
      "cell_type": "code",
      "metadata": {
        "colab": {
          "base_uri": "https://localhost:8080/"
        },
        "id": "upLG39Rl-KXg",
        "outputId": "686a0683-7cbf-4b19-9a69-ae75c3f55eec"
      },
      "source": [
        "cd /content/drive/MyDrive/DeepLearningAssignment/"
      ],
      "execution_count": null,
      "outputs": [
        {
          "output_type": "stream",
          "text": [
            "/content/drive/MyDrive/DeepLearningAssignment\n"
          ],
          "name": "stdout"
        }
      ]
    },
    {
      "cell_type": "code",
      "metadata": {
        "id": "1BLuAXpi93ui"
      },
      "source": [
        "import pandas as pd\n",
        "import numpy as np\n",
        "import tensorflow as tf\n",
        "import keras\n",
        "from keras.models import Sequential\n",
        "from keras.layers import Dense\n",
        "df = pd.read_csv('./Concrete_Data.csv')"
      ],
      "execution_count": null,
      "outputs": []
    },
    {
      "cell_type": "code",
      "metadata": {
        "colab": {
          "base_uri": "https://localhost:8080/",
          "height": 233
        },
        "id": "drKvHGXS-6sG",
        "outputId": "13c81579-799b-4557-c8c8-3042fc9d6228"
      },
      "source": [
        "df.head(2)"
      ],
      "execution_count": null,
      "outputs": [
        {
          "output_type": "execute_result",
          "data": {
            "text/html": [
              "<div>\n",
              "<style scoped>\n",
              "    .dataframe tbody tr th:only-of-type {\n",
              "        vertical-align: middle;\n",
              "    }\n",
              "\n",
              "    .dataframe tbody tr th {\n",
              "        vertical-align: top;\n",
              "    }\n",
              "\n",
              "    .dataframe thead th {\n",
              "        text-align: right;\n",
              "    }\n",
              "</style>\n",
              "<table border=\"1\" class=\"dataframe\">\n",
              "  <thead>\n",
              "    <tr style=\"text-align: right;\">\n",
              "      <th></th>\n",
              "      <th>Cement (component 1)(kg in a m^3 mixture)</th>\n",
              "      <th>Blast Furnace Slag (component 2)(kg in a m^3 mixture)</th>\n",
              "      <th>Fly Ash (component 3)(kg in a m^3 mixture)</th>\n",
              "      <th>Water  (component 4)(kg in a m^3 mixture)</th>\n",
              "      <th>Superplasticizer (component 5)(kg in a m^3 mixture)</th>\n",
              "      <th>Coarse Aggregate  (component 6)(kg in a m^3 mixture)</th>\n",
              "      <th>Fine Aggregate (component 7)(kg in a m^3 mixture)</th>\n",
              "      <th>Age (day)</th>\n",
              "      <th>Concrete compressive strength(MPa, megapascals)</th>\n",
              "    </tr>\n",
              "  </thead>\n",
              "  <tbody>\n",
              "    <tr>\n",
              "      <th>0</th>\n",
              "      <td>540.0</td>\n",
              "      <td>0.0</td>\n",
              "      <td>0.0</td>\n",
              "      <td>162.0</td>\n",
              "      <td>2.5</td>\n",
              "      <td>1040.0</td>\n",
              "      <td>676.0</td>\n",
              "      <td>28</td>\n",
              "      <td>79.99</td>\n",
              "    </tr>\n",
              "    <tr>\n",
              "      <th>1</th>\n",
              "      <td>540.0</td>\n",
              "      <td>0.0</td>\n",
              "      <td>0.0</td>\n",
              "      <td>162.0</td>\n",
              "      <td>2.5</td>\n",
              "      <td>1055.0</td>\n",
              "      <td>676.0</td>\n",
              "      <td>28</td>\n",
              "      <td>61.89</td>\n",
              "    </tr>\n",
              "  </tbody>\n",
              "</table>\n",
              "</div>"
            ],
            "text/plain": [
              "   Cement (component 1)(kg in a m^3 mixture)  ...  Concrete compressive strength(MPa, megapascals) \n",
              "0                                      540.0  ...                                             79.99\n",
              "1                                      540.0  ...                                             61.89\n",
              "\n",
              "[2 rows x 9 columns]"
            ]
          },
          "metadata": {
            "tags": []
          },
          "execution_count": 10
        }
      ]
    },
    {
      "cell_type": "code",
      "metadata": {
        "colab": {
          "base_uri": "https://localhost:8080/"
        },
        "id": "Kln2FO1y_B5K",
        "outputId": "6bb7ed58-87fc-490f-bbc8-d5586952ecac"
      },
      "source": [
        "df.isnull().sum()"
      ],
      "execution_count": null,
      "outputs": [
        {
          "output_type": "execute_result",
          "data": {
            "text/plain": [
              "Cement (component 1)(kg in a m^3 mixture)                0\n",
              "Blast Furnace Slag (component 2)(kg in a m^3 mixture)    0\n",
              "Fly Ash (component 3)(kg in a m^3 mixture)               0\n",
              "Water  (component 4)(kg in a m^3 mixture)                0\n",
              "Superplasticizer (component 5)(kg in a m^3 mixture)      0\n",
              "Coarse Aggregate  (component 6)(kg in a m^3 mixture)     0\n",
              "Fine Aggregate (component 7)(kg in a m^3 mixture)        0\n",
              "Age (day)                                                0\n",
              "Concrete compressive strength(MPa, megapascals)          0\n",
              "dtype: int64"
            ]
          },
          "metadata": {
            "tags": []
          },
          "execution_count": 11
        }
      ]
    },
    {
      "cell_type": "code",
      "metadata": {
        "id": "Puyz_W32_Mq5"
      },
      "source": [
        "x=df.iloc[:,:-1]"
      ],
      "execution_count": null,
      "outputs": []
    },
    {
      "cell_type": "code",
      "metadata": {
        "id": "ISs5dXyoBhEp"
      },
      "source": [
        "y=df.iloc[:,-1]"
      ],
      "execution_count": null,
      "outputs": []
    },
    {
      "cell_type": "code",
      "metadata": {
        "id": "4sY_FFvNBLwh"
      },
      "source": [
        "def regression_model():\n",
        "    model=Sequential()\n",
        "    model.add(Dense(10,activation='relu',input_shape=(n,)))\n",
        "    model.add(Dense(1))\n",
        "    \n",
        "    model.compile(optimizer='adam',loss='mean_squared_error')\n",
        "    return model"
      ],
      "execution_count": null,
      "outputs": []
    },
    {
      "cell_type": "code",
      "metadata": {
        "id": "Xgob9Y7WBgjS"
      },
      "source": [
        ""
      ],
      "execution_count": null,
      "outputs": []
    },
    {
      "cell_type": "code",
      "metadata": {
        "id": "BwNWANxBBVUQ"
      },
      "source": [
        "from sklearn.model_selection import train_test_split\n",
        "\n",
        "xtrain,xtest,ytrain,ytest=train_test_split(x,y,test_size=0.2)"
      ],
      "execution_count": null,
      "outputs": []
    },
    {
      "cell_type": "code",
      "metadata": {
        "id": "wXaVoCUeBm4r"
      },
      "source": [
        "reg=regression_model()"
      ],
      "execution_count": null,
      "outputs": []
    },
    {
      "cell_type": "code",
      "metadata": {
        "colab": {
          "base_uri": "https://localhost:8080/"
        },
        "id": "a3qA8QnyBpWB",
        "outputId": "5fde78da-f05b-4c2b-966e-2e272e9e4dce"
      },
      "source": [
        "reg.fit(xtrain,ytrain,epochs=100,verbose=1)"
      ],
      "execution_count": null,
      "outputs": [
        {
          "output_type": "stream",
          "text": [
            "Epoch 1/100\n",
            "26/26 [==============================] - 1s 1ms/step - loss: 21863.0197\n",
            "Epoch 2/100\n",
            "26/26 [==============================] - 0s 1ms/step - loss: 6625.3193\n",
            "Epoch 3/100\n",
            "26/26 [==============================] - 0s 1ms/step - loss: 2479.0822\n",
            "Epoch 4/100\n",
            "26/26 [==============================] - 0s 1ms/step - loss: 1310.1541\n",
            "Epoch 5/100\n",
            "26/26 [==============================] - 0s 1ms/step - loss: 994.2706\n",
            "Epoch 6/100\n",
            "26/26 [==============================] - 0s 1ms/step - loss: 875.0407\n",
            "Epoch 7/100\n",
            "26/26 [==============================] - 0s 1ms/step - loss: 880.7320\n",
            "Epoch 8/100\n",
            "26/26 [==============================] - 0s 1ms/step - loss: 758.5207\n",
            "Epoch 9/100\n",
            "26/26 [==============================] - 0s 1ms/step - loss: 798.6968\n",
            "Epoch 10/100\n",
            "26/26 [==============================] - 0s 1ms/step - loss: 788.4616\n",
            "Epoch 11/100\n",
            "26/26 [==============================] - 0s 1ms/step - loss: 655.0035\n",
            "Epoch 12/100\n",
            "26/26 [==============================] - 0s 1ms/step - loss: 619.1929\n",
            "Epoch 13/100\n",
            "26/26 [==============================] - 0s 1ms/step - loss: 607.9082\n",
            "Epoch 14/100\n",
            "26/26 [==============================] - 0s 2ms/step - loss: 537.7601\n",
            "Epoch 15/100\n",
            "26/26 [==============================] - 0s 1ms/step - loss: 531.7061\n",
            "Epoch 16/100\n",
            "26/26 [==============================] - 0s 1ms/step - loss: 492.3106\n",
            "Epoch 17/100\n",
            "26/26 [==============================] - 0s 1ms/step - loss: 476.3062\n",
            "Epoch 18/100\n",
            "26/26 [==============================] - 0s 1ms/step - loss: 466.3924\n",
            "Epoch 19/100\n",
            "26/26 [==============================] - 0s 1ms/step - loss: 414.9127\n",
            "Epoch 20/100\n",
            "26/26 [==============================] - 0s 1ms/step - loss: 389.6913\n",
            "Epoch 21/100\n",
            "26/26 [==============================] - 0s 1ms/step - loss: 352.2607\n",
            "Epoch 22/100\n",
            "26/26 [==============================] - 0s 1ms/step - loss: 351.2445\n",
            "Epoch 23/100\n",
            "26/26 [==============================] - 0s 1ms/step - loss: 335.4204\n",
            "Epoch 24/100\n",
            "26/26 [==============================] - 0s 1ms/step - loss: 360.2647\n",
            "Epoch 25/100\n",
            "26/26 [==============================] - 0s 1ms/step - loss: 340.6506\n",
            "Epoch 26/100\n",
            "26/26 [==============================] - 0s 1ms/step - loss: 312.7480\n",
            "Epoch 27/100\n",
            "26/26 [==============================] - 0s 2ms/step - loss: 291.4637\n",
            "Epoch 28/100\n",
            "26/26 [==============================] - 0s 1ms/step - loss: 289.4085\n",
            "Epoch 29/100\n",
            "26/26 [==============================] - 0s 1ms/step - loss: 271.7659\n",
            "Epoch 30/100\n",
            "26/26 [==============================] - 0s 2ms/step - loss: 271.1907\n",
            "Epoch 31/100\n",
            "26/26 [==============================] - 0s 1ms/step - loss: 280.3136\n",
            "Epoch 32/100\n",
            "26/26 [==============================] - 0s 1ms/step - loss: 232.2449\n",
            "Epoch 33/100\n",
            "26/26 [==============================] - 0s 1ms/step - loss: 247.2365\n",
            "Epoch 34/100\n",
            "26/26 [==============================] - 0s 1ms/step - loss: 256.4382\n",
            "Epoch 35/100\n",
            "26/26 [==============================] - 0s 1ms/step - loss: 239.4866\n",
            "Epoch 36/100\n",
            "26/26 [==============================] - 0s 1ms/step - loss: 257.7626\n",
            "Epoch 37/100\n",
            "26/26 [==============================] - 0s 2ms/step - loss: 243.9509\n",
            "Epoch 38/100\n",
            "26/26 [==============================] - 0s 1ms/step - loss: 228.6753\n",
            "Epoch 39/100\n",
            "26/26 [==============================] - 0s 1ms/step - loss: 226.7938\n",
            "Epoch 40/100\n",
            "26/26 [==============================] - 0s 1ms/step - loss: 224.5610\n",
            "Epoch 41/100\n",
            "26/26 [==============================] - 0s 1ms/step - loss: 223.0407\n",
            "Epoch 42/100\n",
            "26/26 [==============================] - 0s 1ms/step - loss: 227.2942\n",
            "Epoch 43/100\n",
            "26/26 [==============================] - 0s 1ms/step - loss: 226.7906\n",
            "Epoch 44/100\n",
            "26/26 [==============================] - 0s 2ms/step - loss: 226.5626\n",
            "Epoch 45/100\n",
            "26/26 [==============================] - 0s 1ms/step - loss: 209.7547\n",
            "Epoch 46/100\n",
            "26/26 [==============================] - 0s 1ms/step - loss: 222.0797\n",
            "Epoch 47/100\n",
            "26/26 [==============================] - 0s 1ms/step - loss: 208.3271\n",
            "Epoch 48/100\n",
            "26/26 [==============================] - 0s 1ms/step - loss: 222.7041\n",
            "Epoch 49/100\n",
            "26/26 [==============================] - 0s 1ms/step - loss: 223.5770\n",
            "Epoch 50/100\n",
            "26/26 [==============================] - 0s 2ms/step - loss: 219.9079\n",
            "Epoch 51/100\n",
            "26/26 [==============================] - 0s 1ms/step - loss: 203.9671\n",
            "Epoch 52/100\n",
            "26/26 [==============================] - 0s 1ms/step - loss: 224.8829\n",
            "Epoch 53/100\n",
            "26/26 [==============================] - 0s 2ms/step - loss: 198.7086\n",
            "Epoch 54/100\n",
            "26/26 [==============================] - 0s 1ms/step - loss: 191.3278\n",
            "Epoch 55/100\n",
            "26/26 [==============================] - 0s 1ms/step - loss: 198.7841\n",
            "Epoch 56/100\n",
            "26/26 [==============================] - 0s 1ms/step - loss: 190.9556\n",
            "Epoch 57/100\n",
            "26/26 [==============================] - 0s 1ms/step - loss: 194.1179\n",
            "Epoch 58/100\n",
            "26/26 [==============================] - 0s 1ms/step - loss: 199.9888\n",
            "Epoch 59/100\n",
            "26/26 [==============================] - 0s 2ms/step - loss: 180.0854\n",
            "Epoch 60/100\n",
            "26/26 [==============================] - 0s 1ms/step - loss: 185.8172\n",
            "Epoch 61/100\n",
            "26/26 [==============================] - 0s 1ms/step - loss: 182.1683\n",
            "Epoch 62/100\n",
            "26/26 [==============================] - 0s 1ms/step - loss: 180.0804\n",
            "Epoch 63/100\n",
            "26/26 [==============================] - 0s 1ms/step - loss: 172.5444\n",
            "Epoch 64/100\n",
            "26/26 [==============================] - 0s 1ms/step - loss: 173.4212\n",
            "Epoch 65/100\n",
            "26/26 [==============================] - 0s 1ms/step - loss: 168.1770\n",
            "Epoch 66/100\n",
            "26/26 [==============================] - 0s 1ms/step - loss: 174.3344\n",
            "Epoch 67/100\n",
            "26/26 [==============================] - 0s 1ms/step - loss: 174.5437\n",
            "Epoch 68/100\n",
            "26/26 [==============================] - 0s 1ms/step - loss: 156.9810\n",
            "Epoch 69/100\n",
            "26/26 [==============================] - 0s 2ms/step - loss: 174.2031\n",
            "Epoch 70/100\n",
            "26/26 [==============================] - 0s 1ms/step - loss: 176.9317\n",
            "Epoch 71/100\n",
            "26/26 [==============================] - 0s 1ms/step - loss: 148.6036\n",
            "Epoch 72/100\n",
            "26/26 [==============================] - 0s 1ms/step - loss: 160.6390\n",
            "Epoch 73/100\n",
            "26/26 [==============================] - 0s 2ms/step - loss: 157.6063\n",
            "Epoch 74/100\n",
            "26/26 [==============================] - 0s 1ms/step - loss: 162.2502\n",
            "Epoch 75/100\n",
            "26/26 [==============================] - 0s 1ms/step - loss: 143.7419\n",
            "Epoch 76/100\n",
            "26/26 [==============================] - 0s 1ms/step - loss: 151.9917\n",
            "Epoch 77/100\n",
            "26/26 [==============================] - 0s 1ms/step - loss: 153.1858\n",
            "Epoch 78/100\n",
            "26/26 [==============================] - 0s 1ms/step - loss: 153.4022\n",
            "Epoch 79/100\n",
            "26/26 [==============================] - 0s 2ms/step - loss: 148.8559\n",
            "Epoch 80/100\n",
            "26/26 [==============================] - 0s 1ms/step - loss: 149.0140\n",
            "Epoch 81/100\n",
            "26/26 [==============================] - 0s 1ms/step - loss: 147.0487\n",
            "Epoch 82/100\n",
            "26/26 [==============================] - 0s 1ms/step - loss: 148.7336\n",
            "Epoch 83/100\n",
            "26/26 [==============================] - 0s 2ms/step - loss: 125.7058\n",
            "Epoch 84/100\n",
            "26/26 [==============================] - 0s 1ms/step - loss: 136.3958\n",
            "Epoch 85/100\n",
            "26/26 [==============================] - 0s 1ms/step - loss: 126.8725\n",
            "Epoch 86/100\n",
            "26/26 [==============================] - 0s 2ms/step - loss: 133.2781\n",
            "Epoch 87/100\n",
            "26/26 [==============================] - 0s 1ms/step - loss: 125.7854\n",
            "Epoch 88/100\n",
            "26/26 [==============================] - 0s 1ms/step - loss: 127.4218\n",
            "Epoch 89/100\n",
            "26/26 [==============================] - 0s 1ms/step - loss: 133.6047\n",
            "Epoch 90/100\n",
            "26/26 [==============================] - 0s 1ms/step - loss: 131.0275\n",
            "Epoch 91/100\n",
            "26/26 [==============================] - 0s 1ms/step - loss: 125.4667\n",
            "Epoch 92/100\n",
            "26/26 [==============================] - 0s 1ms/step - loss: 110.6500\n",
            "Epoch 93/100\n",
            "26/26 [==============================] - 0s 1ms/step - loss: 123.1578\n",
            "Epoch 94/100\n",
            "26/26 [==============================] - 0s 1ms/step - loss: 118.7456\n",
            "Epoch 95/100\n",
            "26/26 [==============================] - 0s 2ms/step - loss: 118.1212\n",
            "Epoch 96/100\n",
            "26/26 [==============================] - 0s 1ms/step - loss: 116.9659\n",
            "Epoch 97/100\n",
            "26/26 [==============================] - 0s 1ms/step - loss: 113.4479\n",
            "Epoch 98/100\n",
            "26/26 [==============================] - 0s 1ms/step - loss: 118.8803\n",
            "Epoch 99/100\n",
            "26/26 [==============================] - 0s 1ms/step - loss: 102.7291\n",
            "Epoch 100/100\n",
            "26/26 [==============================] - 0s 1ms/step - loss: 121.4861\n"
          ],
          "name": "stdout"
        },
        {
          "output_type": "execute_result",
          "data": {
            "text/plain": [
              "<tensorflow.python.keras.callbacks.History at 0x7f3e51e67b90>"
            ]
          },
          "metadata": {
            "tags": []
          },
          "execution_count": 20
        }
      ]
    },
    {
      "cell_type": "code",
      "metadata": {
        "colab": {
          "base_uri": "https://localhost:8080/"
        },
        "id": "ECs4cLJQB5Aw",
        "outputId": "3a5c2825-1af4-42fd-e654-d626f570e27b"
      },
      "source": [
        "loss_ans=reg.evaluate(xtest,ytest)\n",
        "loss_ans"
      ],
      "execution_count": null,
      "outputs": [
        {
          "output_type": "stream",
          "text": [
            "7/7 [==============================] - 0s 2ms/step - loss: 123.0384\n"
          ],
          "name": "stdout"
        },
        {
          "output_type": "execute_result",
          "data": {
            "text/plain": [
              "123.03844451904297"
            ]
          },
          "metadata": {
            "tags": []
          },
          "execution_count": 21
        }
      ]
    },
    {
      "cell_type": "code",
      "metadata": {
        "colab": {
          "base_uri": "https://localhost:8080/"
        },
        "id": "zON0XmvKB-YZ",
        "outputId": "3336fef3-fb1f-46ae-c154-d27918ff858e"
      },
      "source": [
        "from sklearn.metrics import mean_squared_error\n",
        "\n",
        "ypred=reg.predict(xtest)\n",
        "\n",
        "res=np.sqrt(mean_squared_error(ypred,ytest))\n",
        "\n",
        "res"
      ],
      "execution_count": null,
      "outputs": [
        {
          "output_type": "execute_result",
          "data": {
            "text/plain": [
              "11.092269481587655"
            ]
          },
          "metadata": {
            "tags": []
          },
          "execution_count": 22
        }
      ]
    },
    {
      "cell_type": "code",
      "metadata": {
        "colab": {
          "base_uri": "https://localhost:8080/"
        },
        "id": "_Z8f0DrNCBNo",
        "outputId": "59b3604a-397f-4070-879e-b52f7bb63571"
      },
      "source": [
        "reg.get_weights()"
      ],
      "execution_count": null,
      "outputs": [
        {
          "output_type": "execute_result",
          "data": {
            "text/plain": [
              "[array([[-0.08533263,  0.26401946, -0.22745778,  0.54820985,  0.22339441,\n",
              "         -0.39169124, -0.36694887, -0.35527697, -0.51109606,  0.5480622 ],\n",
              "        [ 0.01271677, -0.5621744 , -0.6540779 , -0.2917999 ,  0.02539388,\n",
              "          0.0372017 , -0.38621658,  0.30140564, -0.27849764, -0.3227993 ],\n",
              "        [ 0.28415412, -0.12496611, -0.23775217, -0.16066718,  0.64767265,\n",
              "          0.1857214 ,  0.07366478,  0.30958387,  0.39301252, -0.05686247],\n",
              "        [-0.1959362 , -0.6831077 ,  0.50243443,  0.07065628, -0.44031882,\n",
              "         -0.56749773,  0.51274097,  0.2119006 ,  0.28840756,  0.22546507],\n",
              "        [ 0.35571712,  0.22982837, -1.07255   ,  0.60606456,  1.4861265 ,\n",
              "          0.5593257 ,  0.15352052, -0.5001007 ,  0.0865109 ,  0.5973828 ],\n",
              "        [-0.46259817, -0.07973289, -0.0769771 ,  0.4116982 ,  0.20092833,\n",
              "          0.05913597, -0.32927543,  0.2129957 , -0.26803148, -0.16354257],\n",
              "        [ 0.25557333,  0.05170719,  0.30819997,  0.06614839,  0.3094476 ,\n",
              "         -0.5704879 ,  0.03089935, -0.46039882, -0.5000267 ,  0.31626785],\n",
              "        [-0.5639104 ,  0.32892025, -0.2749005 ,  0.5177077 ,  0.6269103 ,\n",
              "          0.13050008,  0.35529822, -0.09130725, -0.538687  ,  0.40027753]],\n",
              "       dtype=float32),\n",
              " array([ 0.        , -0.13014828, -0.00192887,  0.00820901, -0.01269667,\n",
              "         0.        ,  0.        , -0.03850803,  0.        , -0.0529133 ],\n",
              "       dtype=float32),\n",
              " array([[-0.35698453],\n",
              "        [-0.28070793],\n",
              "        [-0.16394818],\n",
              "        [ 0.02102637],\n",
              "        [ 0.04651694],\n",
              "        [-0.2761117 ],\n",
              "        [ 0.24728382],\n",
              "        [ 0.37349844],\n",
              "        [ 0.596834  ],\n",
              "        [ 0.06962939]], dtype=float32),\n",
              " array([0.01764139], dtype=float32)]"
            ]
          },
          "metadata": {
            "tags": []
          },
          "execution_count": 23
        }
      ]
    },
    {
      "cell_type": "code",
      "metadata": {
        "colab": {
          "base_uri": "https://localhost:8080/"
        },
        "id": "XESf3tgzCNkz",
        "outputId": "50b1ac41-997b-460c-9155-eb79f5a2ec5d"
      },
      "source": [
        "total_mean_squared_errors = 20\n",
        "epochs = 20\n",
        "mean_squared_errors = []\n",
        "for i in range(0, total_mean_squared_errors):\n",
        "    X_train, X_test, y_train, y_test = train_test_split(x, y, test_size=0.3, random_state=i)\n",
        "    reg.fit(X_train, y_train, epochs=epochs, verbose=0)\n",
        "    MSE = reg.evaluate(xtest, ytest, verbose=0)\n",
        "    print(\"MSE \"+str(i+1)+\": \"+str(MSE))\n",
        "    y_pred = reg.predict(xtest)\n",
        "    mean_square_error = mean_squared_error(ytest, y_pred)\n",
        "    mean_squared_errors.append(mean_square_error)\n",
        "\n",
        "mean_squared_errors = np.array(mean_squared_errors)\n",
        "mean = np.mean(mean_squared_errors)\n",
        "standard_deviation = np.std(mean_squared_errors)\n",
        "\n",
        "print('\\n')\n",
        "print(\"Below is the mean and standard deviation of \" +str(total_mean_squared_errors) + \" mean squared errors without normalized data. Total number of epochs for each training is: \" +str(epochs) + \"\\n\")\n",
        "print(\"Mean: \"+str(mean))\n",
        "print(\"Standard Deviation: \"+str(standard_deviation))"
      ],
      "execution_count": null,
      "outputs": [
        {
          "output_type": "stream",
          "text": [
            "MSE 1: 35.83582305908203\n",
            "MSE 2: 36.589935302734375\n",
            "MSE 3: 38.04255294799805\n",
            "MSE 4: 37.990413665771484\n",
            "MSE 5: 39.62556838989258\n",
            "MSE 6: 41.44038772583008\n",
            "MSE 7: 38.88315963745117\n",
            "MSE 8: 37.990360260009766\n",
            "MSE 9: 38.46940612792969\n",
            "MSE 10: 37.45212173461914\n",
            "MSE 11: 37.54726028442383\n",
            "MSE 12: 37.56407928466797\n",
            "MSE 13: 41.324806213378906\n",
            "MSE 14: 36.44058609008789\n",
            "MSE 15: 38.4947624206543\n",
            "MSE 16: 37.45795440673828\n",
            "MSE 17: 42.23925018310547\n",
            "MSE 18: 36.5376091003418\n",
            "MSE 19: 40.38925552368164\n",
            "MSE 20: 36.27765655517578\n",
            "\n",
            "\n",
            "Below is the mean and standard deviation of 20 mean squared errors without normalized data. Total number of epochs for each training is: 20\n",
            "\n",
            "Mean: 38.32964577196729\n",
            "Standard Deviation: 1.7816330812087953\n"
          ],
          "name": "stdout"
        }
      ]
    },
    {
      "cell_type": "markdown",
      "metadata": {
        "id": "S--cA5PLDMMy"
      },
      "source": [
        "**Normalizing Data**"
      ]
    },
    {
      "cell_type": "code",
      "metadata": {
        "colab": {
          "base_uri": "https://localhost:8080/",
          "height": 326
        },
        "id": "6ca1ohh0DSCS",
        "outputId": "18832d52-0878-4691-b291-e0d940d19181"
      },
      "source": [
        "x = (x - x.mean()) / x.std()\n",
        "x.head()"
      ],
      "execution_count": null,
      "outputs": [
        {
          "output_type": "execute_result",
          "data": {
            "text/html": [
              "<div>\n",
              "<style scoped>\n",
              "    .dataframe tbody tr th:only-of-type {\n",
              "        vertical-align: middle;\n",
              "    }\n",
              "\n",
              "    .dataframe tbody tr th {\n",
              "        vertical-align: top;\n",
              "    }\n",
              "\n",
              "    .dataframe thead th {\n",
              "        text-align: right;\n",
              "    }\n",
              "</style>\n",
              "<table border=\"1\" class=\"dataframe\">\n",
              "  <thead>\n",
              "    <tr style=\"text-align: right;\">\n",
              "      <th></th>\n",
              "      <th>Cement (component 1)(kg in a m^3 mixture)</th>\n",
              "      <th>Blast Furnace Slag (component 2)(kg in a m^3 mixture)</th>\n",
              "      <th>Fly Ash (component 3)(kg in a m^3 mixture)</th>\n",
              "      <th>Water  (component 4)(kg in a m^3 mixture)</th>\n",
              "      <th>Superplasticizer (component 5)(kg in a m^3 mixture)</th>\n",
              "      <th>Coarse Aggregate  (component 6)(kg in a m^3 mixture)</th>\n",
              "      <th>Fine Aggregate (component 7)(kg in a m^3 mixture)</th>\n",
              "      <th>Age (day)</th>\n",
              "    </tr>\n",
              "  </thead>\n",
              "  <tbody>\n",
              "    <tr>\n",
              "      <th>0</th>\n",
              "      <td>2.476712</td>\n",
              "      <td>-0.856472</td>\n",
              "      <td>-0.846733</td>\n",
              "      <td>-0.916319</td>\n",
              "      <td>-0.620147</td>\n",
              "      <td>0.862735</td>\n",
              "      <td>-1.217079</td>\n",
              "      <td>-0.279597</td>\n",
              "    </tr>\n",
              "    <tr>\n",
              "      <th>1</th>\n",
              "      <td>2.476712</td>\n",
              "      <td>-0.856472</td>\n",
              "      <td>-0.846733</td>\n",
              "      <td>-0.916319</td>\n",
              "      <td>-0.620147</td>\n",
              "      <td>1.055651</td>\n",
              "      <td>-1.217079</td>\n",
              "      <td>-0.279597</td>\n",
              "    </tr>\n",
              "    <tr>\n",
              "      <th>2</th>\n",
              "      <td>0.491187</td>\n",
              "      <td>0.795140</td>\n",
              "      <td>-0.846733</td>\n",
              "      <td>2.174405</td>\n",
              "      <td>-1.038638</td>\n",
              "      <td>-0.526262</td>\n",
              "      <td>-2.239829</td>\n",
              "      <td>3.551340</td>\n",
              "    </tr>\n",
              "    <tr>\n",
              "      <th>3</th>\n",
              "      <td>0.491187</td>\n",
              "      <td>0.795140</td>\n",
              "      <td>-0.846733</td>\n",
              "      <td>2.174405</td>\n",
              "      <td>-1.038638</td>\n",
              "      <td>-0.526262</td>\n",
              "      <td>-2.239829</td>\n",
              "      <td>5.055221</td>\n",
              "    </tr>\n",
              "    <tr>\n",
              "      <th>4</th>\n",
              "      <td>-0.790075</td>\n",
              "      <td>0.678079</td>\n",
              "      <td>-0.846733</td>\n",
              "      <td>0.488555</td>\n",
              "      <td>-1.038638</td>\n",
              "      <td>0.070492</td>\n",
              "      <td>0.647569</td>\n",
              "      <td>4.976069</td>\n",
              "    </tr>\n",
              "  </tbody>\n",
              "</table>\n",
              "</div>"
            ],
            "text/plain": [
              "   Cement (component 1)(kg in a m^3 mixture)  ...  Age (day)\n",
              "0                                   2.476712  ...  -0.279597\n",
              "1                                   2.476712  ...  -0.279597\n",
              "2                                   0.491187  ...   3.551340\n",
              "3                                   0.491187  ...   5.055221\n",
              "4                                  -0.790075  ...   4.976069\n",
              "\n",
              "[5 rows x 8 columns]"
            ]
          },
          "metadata": {
            "tags": []
          },
          "execution_count": 26
        }
      ]
    },
    {
      "cell_type": "code",
      "metadata": {
        "id": "F90uQ4r9DXDM"
      },
      "source": [
        "from sklearn.model_selection import train_test_split\n",
        "\n",
        "xtrain,xtest,ytrain,ytest=train_test_split(x,y,test_size=0.2)"
      ],
      "execution_count": null,
      "outputs": []
    },
    {
      "cell_type": "code",
      "metadata": {
        "colab": {
          "base_uri": "https://localhost:8080/"
        },
        "id": "5B31bJx2DaYq",
        "outputId": "fdde2a63-38e6-4605-85b1-f55cc18aaf4e"
      },
      "source": [
        "reg.fit(xtrain,ytrain,epochs=100,verbose=1)"
      ],
      "execution_count": null,
      "outputs": [
        {
          "output_type": "stream",
          "text": [
            "Epoch 1/100\n",
            "26/26 [==============================] - 0s 1ms/step - loss: 1593.1893\n",
            "Epoch 2/100\n",
            "26/26 [==============================] - 0s 1ms/step - loss: 1527.9619\n",
            "Epoch 3/100\n",
            "26/26 [==============================] - 0s 1ms/step - loss: 1470.3188\n",
            "Epoch 4/100\n",
            "26/26 [==============================] - 0s 1ms/step - loss: 1415.2344\n",
            "Epoch 5/100\n",
            "26/26 [==============================] - 0s 1ms/step - loss: 1360.7339\n",
            "Epoch 6/100\n",
            "26/26 [==============================] - 0s 1ms/step - loss: 1306.5793\n",
            "Epoch 7/100\n",
            "26/26 [==============================] - 0s 1ms/step - loss: 1251.3446\n",
            "Epoch 8/100\n",
            "26/26 [==============================] - 0s 1ms/step - loss: 1195.2218\n",
            "Epoch 9/100\n",
            "26/26 [==============================] - 0s 1ms/step - loss: 1136.6292\n",
            "Epoch 10/100\n",
            "26/26 [==============================] - 0s 1ms/step - loss: 1077.2629\n",
            "Epoch 11/100\n",
            "26/26 [==============================] - 0s 1ms/step - loss: 1017.9695\n",
            "Epoch 12/100\n",
            "26/26 [==============================] - 0s 1ms/step - loss: 960.6226\n",
            "Epoch 13/100\n",
            "26/26 [==============================] - 0s 1ms/step - loss: 904.2972\n",
            "Epoch 14/100\n",
            "26/26 [==============================] - 0s 1ms/step - loss: 850.8907\n",
            "Epoch 15/100\n",
            "26/26 [==============================] - 0s 1ms/step - loss: 799.1327\n",
            "Epoch 16/100\n",
            "26/26 [==============================] - 0s 1ms/step - loss: 750.7919\n",
            "Epoch 17/100\n",
            "26/26 [==============================] - 0s 1ms/step - loss: 704.5026\n",
            "Epoch 18/100\n",
            "26/26 [==============================] - 0s 1ms/step - loss: 662.3488\n",
            "Epoch 19/100\n",
            "26/26 [==============================] - 0s 1ms/step - loss: 620.7763\n",
            "Epoch 20/100\n",
            "26/26 [==============================] - 0s 1ms/step - loss: 583.4314\n",
            "Epoch 21/100\n",
            "26/26 [==============================] - 0s 1ms/step - loss: 548.6672\n",
            "Epoch 22/100\n",
            "26/26 [==============================] - 0s 1ms/step - loss: 515.9640\n",
            "Epoch 23/100\n",
            "26/26 [==============================] - 0s 1ms/step - loss: 485.9796\n",
            "Epoch 24/100\n",
            "26/26 [==============================] - 0s 1ms/step - loss: 457.9666\n",
            "Epoch 25/100\n",
            "26/26 [==============================] - 0s 1ms/step - loss: 432.6629\n",
            "Epoch 26/100\n",
            "26/26 [==============================] - 0s 1ms/step - loss: 408.6353\n",
            "Epoch 27/100\n",
            "26/26 [==============================] - 0s 1ms/step - loss: 387.2253\n",
            "Epoch 28/100\n",
            "26/26 [==============================] - 0s 1ms/step - loss: 367.2760\n",
            "Epoch 29/100\n",
            "26/26 [==============================] - 0s 2ms/step - loss: 349.4575\n",
            "Epoch 30/100\n",
            "26/26 [==============================] - 0s 1ms/step - loss: 332.8026\n",
            "Epoch 31/100\n",
            "26/26 [==============================] - 0s 1ms/step - loss: 318.0358\n",
            "Epoch 32/100\n",
            "26/26 [==============================] - 0s 1ms/step - loss: 304.3527\n",
            "Epoch 33/100\n",
            "26/26 [==============================] - 0s 1ms/step - loss: 292.0026\n",
            "Epoch 34/100\n",
            "26/26 [==============================] - 0s 1ms/step - loss: 281.0466\n",
            "Epoch 35/100\n",
            "26/26 [==============================] - 0s 1ms/step - loss: 271.1924\n",
            "Epoch 36/100\n",
            "26/26 [==============================] - 0s 1ms/step - loss: 261.9593\n",
            "Epoch 37/100\n",
            "26/26 [==============================] - 0s 1ms/step - loss: 254.0321\n",
            "Epoch 38/100\n",
            "26/26 [==============================] - 0s 1ms/step - loss: 246.5402\n",
            "Epoch 39/100\n",
            "26/26 [==============================] - 0s 2ms/step - loss: 240.4413\n",
            "Epoch 40/100\n",
            "26/26 [==============================] - 0s 1ms/step - loss: 234.0512\n",
            "Epoch 41/100\n",
            "26/26 [==============================] - 0s 1ms/step - loss: 229.0231\n",
            "Epoch 42/100\n",
            "26/26 [==============================] - 0s 2ms/step - loss: 223.8032\n",
            "Epoch 43/100\n",
            "26/26 [==============================] - 0s 1ms/step - loss: 219.4477\n",
            "Epoch 44/100\n",
            "26/26 [==============================] - 0s 1ms/step - loss: 215.3851\n",
            "Epoch 45/100\n",
            "26/26 [==============================] - 0s 1ms/step - loss: 211.6650\n",
            "Epoch 46/100\n",
            "26/26 [==============================] - 0s 1ms/step - loss: 208.1644\n",
            "Epoch 47/100\n",
            "26/26 [==============================] - 0s 2ms/step - loss: 204.9571\n",
            "Epoch 48/100\n",
            "26/26 [==============================] - 0s 1ms/step - loss: 201.9878\n",
            "Epoch 49/100\n",
            "26/26 [==============================] - 0s 2ms/step - loss: 199.2606\n",
            "Epoch 50/100\n",
            "26/26 [==============================] - 0s 1ms/step - loss: 196.8459\n",
            "Epoch 51/100\n",
            "26/26 [==============================] - 0s 1ms/step - loss: 194.3466\n",
            "Epoch 52/100\n",
            "26/26 [==============================] - 0s 1ms/step - loss: 192.1216\n",
            "Epoch 53/100\n",
            "26/26 [==============================] - 0s 1ms/step - loss: 189.9783\n",
            "Epoch 54/100\n",
            "26/26 [==============================] - 0s 1ms/step - loss: 187.8198\n",
            "Epoch 55/100\n",
            "26/26 [==============================] - 0s 1ms/step - loss: 185.7993\n",
            "Epoch 56/100\n",
            "26/26 [==============================] - 0s 1ms/step - loss: 183.8404\n",
            "Epoch 57/100\n",
            "26/26 [==============================] - 0s 1ms/step - loss: 181.8812\n",
            "Epoch 58/100\n",
            "26/26 [==============================] - 0s 1ms/step - loss: 180.0754\n",
            "Epoch 59/100\n",
            "26/26 [==============================] - 0s 1ms/step - loss: 178.1473\n",
            "Epoch 60/100\n",
            "26/26 [==============================] - 0s 1ms/step - loss: 176.3474\n",
            "Epoch 61/100\n",
            "26/26 [==============================] - 0s 1ms/step - loss: 174.5610\n",
            "Epoch 62/100\n",
            "26/26 [==============================] - 0s 2ms/step - loss: 172.7121\n",
            "Epoch 63/100\n",
            "26/26 [==============================] - 0s 1ms/step - loss: 170.9737\n",
            "Epoch 64/100\n",
            "26/26 [==============================] - 0s 1ms/step - loss: 169.3087\n",
            "Epoch 65/100\n",
            "26/26 [==============================] - 0s 1ms/step - loss: 167.6263\n",
            "Epoch 66/100\n",
            "26/26 [==============================] - 0s 1ms/step - loss: 165.9998\n",
            "Epoch 67/100\n",
            "26/26 [==============================] - 0s 1ms/step - loss: 164.3827\n",
            "Epoch 68/100\n",
            "26/26 [==============================] - 0s 1ms/step - loss: 162.6770\n",
            "Epoch 69/100\n",
            "26/26 [==============================] - 0s 1ms/step - loss: 161.0823\n",
            "Epoch 70/100\n",
            "26/26 [==============================] - 0s 1ms/step - loss: 159.4623\n",
            "Epoch 71/100\n",
            "26/26 [==============================] - 0s 2ms/step - loss: 157.8508\n",
            "Epoch 72/100\n",
            "26/26 [==============================] - 0s 1ms/step - loss: 156.2855\n",
            "Epoch 73/100\n",
            "26/26 [==============================] - 0s 1ms/step - loss: 154.7764\n",
            "Epoch 74/100\n",
            "26/26 [==============================] - 0s 1ms/step - loss: 153.1140\n",
            "Epoch 75/100\n",
            "26/26 [==============================] - 0s 1ms/step - loss: 151.5359\n",
            "Epoch 76/100\n",
            "26/26 [==============================] - 0s 1ms/step - loss: 150.0230\n",
            "Epoch 77/100\n",
            "26/26 [==============================] - 0s 1ms/step - loss: 148.5015\n",
            "Epoch 78/100\n",
            "26/26 [==============================] - 0s 1ms/step - loss: 147.0520\n",
            "Epoch 79/100\n",
            "26/26 [==============================] - 0s 1ms/step - loss: 145.6195\n",
            "Epoch 80/100\n",
            "26/26 [==============================] - 0s 1ms/step - loss: 144.2406\n",
            "Epoch 81/100\n",
            "26/26 [==============================] - 0s 1ms/step - loss: 142.7864\n",
            "Epoch 82/100\n",
            "26/26 [==============================] - 0s 1ms/step - loss: 141.4256\n",
            "Epoch 83/100\n",
            "26/26 [==============================] - 0s 1ms/step - loss: 140.1008\n",
            "Epoch 84/100\n",
            "26/26 [==============================] - 0s 1ms/step - loss: 138.7476\n",
            "Epoch 85/100\n",
            "26/26 [==============================] - 0s 1ms/step - loss: 137.3632\n",
            "Epoch 86/100\n",
            "26/26 [==============================] - 0s 1ms/step - loss: 136.1411\n",
            "Epoch 87/100\n",
            "26/26 [==============================] - 0s 1ms/step - loss: 134.7949\n",
            "Epoch 88/100\n",
            "26/26 [==============================] - 0s 1ms/step - loss: 133.5735\n",
            "Epoch 89/100\n",
            "26/26 [==============================] - 0s 2ms/step - loss: 132.3351\n",
            "Epoch 90/100\n",
            "26/26 [==============================] - 0s 1ms/step - loss: 131.0876\n",
            "Epoch 91/100\n",
            "26/26 [==============================] - 0s 1ms/step - loss: 129.9831\n",
            "Epoch 92/100\n",
            "26/26 [==============================] - 0s 1ms/step - loss: 128.7193\n",
            "Epoch 93/100\n",
            "26/26 [==============================] - 0s 1ms/step - loss: 127.5919\n",
            "Epoch 94/100\n",
            "26/26 [==============================] - 0s 1ms/step - loss: 126.4428\n",
            "Epoch 95/100\n",
            "26/26 [==============================] - 0s 1ms/step - loss: 125.3052\n",
            "Epoch 96/100\n",
            "26/26 [==============================] - 0s 2ms/step - loss: 124.2206\n",
            "Epoch 97/100\n",
            "26/26 [==============================] - 0s 1ms/step - loss: 123.1225\n",
            "Epoch 98/100\n",
            "26/26 [==============================] - 0s 1ms/step - loss: 121.9527\n",
            "Epoch 99/100\n",
            "26/26 [==============================] - 0s 1ms/step - loss: 120.9627\n",
            "Epoch 100/100\n",
            "26/26 [==============================] - 0s 2ms/step - loss: 119.8910\n"
          ],
          "name": "stdout"
        },
        {
          "output_type": "execute_result",
          "data": {
            "text/plain": [
              "<tensorflow.python.keras.callbacks.History at 0x7f3e4e6b8110>"
            ]
          },
          "metadata": {
            "tags": []
          },
          "execution_count": 28
        }
      ]
    },
    {
      "cell_type": "code",
      "metadata": {
        "colab": {
          "base_uri": "https://localhost:8080/"
        },
        "id": "85EGspPQDjjj",
        "outputId": "cc6bd12c-9c44-41ba-8d01-be30e8c51c88"
      },
      "source": [
        "ypred=reg.predict(xtest)\n",
        "\n",
        "res=np.sqrt(mean_squared_error(ypred,ytest))\n",
        "\n",
        "res"
      ],
      "execution_count": null,
      "outputs": [
        {
          "output_type": "execute_result",
          "data": {
            "text/plain": [
              "11.804620449097058"
            ]
          },
          "metadata": {
            "tags": []
          },
          "execution_count": 29
        }
      ]
    },
    {
      "cell_type": "code",
      "metadata": {
        "id": "XC57InEOD2Uy"
      },
      "source": [
        "def regression_model():\n",
        "    model=Sequential()\n",
        "    model.add(Dense(10,activation='relu',input_shape=(n,)))\n",
        "    model.add(Dense(16,activation='relu'))\n",
        "    model.add(Dense(24,activation='relu'))\n",
        "    model.add(Dense(1))\n",
        "    \n",
        "    model.compile(optimizer='adam',loss='mean_squared_error')\n",
        "    return model"
      ],
      "execution_count": null,
      "outputs": []
    },
    {
      "cell_type": "code",
      "metadata": {
        "id": "YRxablFMD4fC"
      },
      "source": [
        "reg=regression_model()"
      ],
      "execution_count": null,
      "outputs": []
    },
    {
      "cell_type": "code",
      "metadata": {
        "colab": {
          "base_uri": "https://localhost:8080/"
        },
        "id": "7_TZUNM5D72U",
        "outputId": "7249b207-2360-4be8-d11d-1f1fafbb2a99"
      },
      "source": [
        "reg.fit(xtrain,ytrain,epochs=100,verbose=1)"
      ],
      "execution_count": null,
      "outputs": [
        {
          "output_type": "stream",
          "text": [
            "Epoch 1/100\n",
            "26/26 [==============================] - 0s 1ms/step - loss: 1537.9271\n",
            "Epoch 2/100\n",
            "26/26 [==============================] - 0s 1ms/step - loss: 1474.9218\n",
            "Epoch 3/100\n",
            "26/26 [==============================] - 0s 1ms/step - loss: 1335.6416\n",
            "Epoch 4/100\n",
            "26/26 [==============================] - 0s 1ms/step - loss: 1289.3293\n",
            "Epoch 5/100\n",
            "26/26 [==============================] - 0s 1ms/step - loss: 943.4076\n",
            "Epoch 6/100\n",
            "26/26 [==============================] - 0s 1ms/step - loss: 640.6308\n",
            "Epoch 7/100\n",
            "26/26 [==============================] - 0s 2ms/step - loss: 420.1421\n",
            "Epoch 8/100\n",
            "26/26 [==============================] - 0s 1ms/step - loss: 286.3836\n",
            "Epoch 9/100\n",
            "26/26 [==============================] - 0s 1ms/step - loss: 258.3363\n",
            "Epoch 10/100\n",
            "26/26 [==============================] - 0s 1ms/step - loss: 196.5279\n",
            "Epoch 11/100\n",
            "26/26 [==============================] - 0s 1ms/step - loss: 200.4801\n",
            "Epoch 12/100\n",
            "26/26 [==============================] - 0s 1ms/step - loss: 193.9813\n",
            "Epoch 13/100\n",
            "26/26 [==============================] - 0s 1ms/step - loss: 166.2711\n",
            "Epoch 14/100\n",
            "26/26 [==============================] - 0s 1ms/step - loss: 162.2593\n",
            "Epoch 15/100\n",
            "26/26 [==============================] - 0s 1ms/step - loss: 160.1688\n",
            "Epoch 16/100\n",
            "26/26 [==============================] - 0s 2ms/step - loss: 154.8490\n",
            "Epoch 17/100\n",
            "26/26 [==============================] - 0s 1ms/step - loss: 153.2952\n",
            "Epoch 18/100\n",
            "26/26 [==============================] - 0s 2ms/step - loss: 156.4732\n",
            "Epoch 19/100\n",
            "26/26 [==============================] - 0s 1ms/step - loss: 151.2718\n",
            "Epoch 20/100\n",
            "26/26 [==============================] - 0s 1ms/step - loss: 135.0036\n",
            "Epoch 21/100\n",
            "26/26 [==============================] - 0s 1ms/step - loss: 146.6937\n",
            "Epoch 22/100\n",
            "26/26 [==============================] - 0s 1ms/step - loss: 140.2690\n",
            "Epoch 23/100\n",
            "26/26 [==============================] - 0s 1ms/step - loss: 134.2530\n",
            "Epoch 24/100\n",
            "26/26 [==============================] - 0s 1ms/step - loss: 152.7287\n",
            "Epoch 25/100\n",
            "26/26 [==============================] - 0s 1ms/step - loss: 139.8040\n",
            "Epoch 26/100\n",
            "26/26 [==============================] - 0s 1ms/step - loss: 137.2904\n",
            "Epoch 27/100\n",
            "26/26 [==============================] - 0s 1ms/step - loss: 129.5624\n",
            "Epoch 28/100\n",
            "26/26 [==============================] - 0s 1ms/step - loss: 128.6494\n",
            "Epoch 29/100\n",
            "26/26 [==============================] - 0s 1ms/step - loss: 140.2854\n",
            "Epoch 30/100\n",
            "26/26 [==============================] - 0s 2ms/step - loss: 129.5190\n",
            "Epoch 31/100\n",
            "26/26 [==============================] - 0s 1ms/step - loss: 133.5034\n",
            "Epoch 32/100\n",
            "26/26 [==============================] - 0s 1ms/step - loss: 119.6841\n",
            "Epoch 33/100\n",
            "26/26 [==============================] - 0s 1ms/step - loss: 125.1139\n",
            "Epoch 34/100\n",
            "26/26 [==============================] - 0s 1ms/step - loss: 126.6491\n",
            "Epoch 35/100\n",
            "26/26 [==============================] - 0s 1ms/step - loss: 119.7161\n",
            "Epoch 36/100\n",
            "26/26 [==============================] - 0s 1ms/step - loss: 124.3395\n",
            "Epoch 37/100\n",
            "26/26 [==============================] - 0s 1ms/step - loss: 126.9343\n",
            "Epoch 38/100\n",
            "26/26 [==============================] - 0s 2ms/step - loss: 118.0656\n",
            "Epoch 39/100\n",
            "26/26 [==============================] - 0s 1ms/step - loss: 121.6899\n",
            "Epoch 40/100\n",
            "26/26 [==============================] - 0s 1ms/step - loss: 116.6430\n",
            "Epoch 41/100\n",
            "26/26 [==============================] - 0s 1ms/step - loss: 118.2591\n",
            "Epoch 42/100\n",
            "26/26 [==============================] - 0s 2ms/step - loss: 113.1321\n",
            "Epoch 43/100\n",
            "26/26 [==============================] - 0s 1ms/step - loss: 113.6755\n",
            "Epoch 44/100\n",
            "26/26 [==============================] - 0s 1ms/step - loss: 117.1097\n",
            "Epoch 45/100\n",
            "26/26 [==============================] - 0s 2ms/step - loss: 106.8900\n",
            "Epoch 46/100\n",
            "26/26 [==============================] - 0s 2ms/step - loss: 113.5568\n",
            "Epoch 47/100\n",
            "26/26 [==============================] - 0s 1ms/step - loss: 104.7575\n",
            "Epoch 48/100\n",
            "26/26 [==============================] - 0s 2ms/step - loss: 101.9325\n",
            "Epoch 49/100\n",
            "26/26 [==============================] - 0s 1ms/step - loss: 101.7719\n",
            "Epoch 50/100\n",
            "26/26 [==============================] - 0s 1ms/step - loss: 100.8302\n",
            "Epoch 51/100\n",
            "26/26 [==============================] - 0s 1ms/step - loss: 92.9513\n",
            "Epoch 52/100\n",
            "26/26 [==============================] - 0s 1ms/step - loss: 96.2927\n",
            "Epoch 53/100\n",
            "26/26 [==============================] - 0s 1ms/step - loss: 92.7299\n",
            "Epoch 54/100\n",
            "26/26 [==============================] - 0s 1ms/step - loss: 90.0949\n",
            "Epoch 55/100\n",
            "26/26 [==============================] - 0s 1ms/step - loss: 89.7799\n",
            "Epoch 56/100\n",
            "26/26 [==============================] - 0s 1ms/step - loss: 92.7545\n",
            "Epoch 57/100\n",
            "26/26 [==============================] - 0s 1ms/step - loss: 83.2944\n",
            "Epoch 58/100\n",
            "26/26 [==============================] - 0s 1ms/step - loss: 82.8688\n",
            "Epoch 59/100\n",
            "26/26 [==============================] - 0s 1ms/step - loss: 87.7213\n",
            "Epoch 60/100\n",
            "26/26 [==============================] - 0s 1ms/step - loss: 71.6697\n",
            "Epoch 61/100\n",
            "26/26 [==============================] - 0s 1ms/step - loss: 82.4456\n",
            "Epoch 62/100\n",
            "26/26 [==============================] - 0s 1ms/step - loss: 75.4927\n",
            "Epoch 63/100\n",
            "26/26 [==============================] - 0s 1ms/step - loss: 68.9775\n",
            "Epoch 64/100\n",
            "26/26 [==============================] - 0s 1ms/step - loss: 73.5492\n",
            "Epoch 65/100\n",
            "26/26 [==============================] - 0s 2ms/step - loss: 78.1273\n",
            "Epoch 66/100\n",
            "26/26 [==============================] - 0s 2ms/step - loss: 69.7514\n",
            "Epoch 67/100\n",
            "26/26 [==============================] - 0s 1ms/step - loss: 69.8441\n",
            "Epoch 68/100\n",
            "26/26 [==============================] - 0s 2ms/step - loss: 63.6174\n",
            "Epoch 69/100\n",
            "26/26 [==============================] - 0s 1ms/step - loss: 65.6946\n",
            "Epoch 70/100\n",
            "26/26 [==============================] - 0s 1ms/step - loss: 63.5272\n",
            "Epoch 71/100\n",
            "26/26 [==============================] - 0s 1ms/step - loss: 59.3704\n",
            "Epoch 72/100\n",
            "26/26 [==============================] - 0s 1ms/step - loss: 60.8851\n",
            "Epoch 73/100\n",
            "26/26 [==============================] - 0s 1ms/step - loss: 57.1949\n",
            "Epoch 74/100\n",
            "26/26 [==============================] - 0s 1ms/step - loss: 55.5439\n",
            "Epoch 75/100\n",
            "26/26 [==============================] - 0s 2ms/step - loss: 58.6126\n",
            "Epoch 76/100\n",
            "26/26 [==============================] - 0s 1ms/step - loss: 54.1196\n",
            "Epoch 77/100\n",
            "26/26 [==============================] - 0s 1ms/step - loss: 57.0634\n",
            "Epoch 78/100\n",
            "26/26 [==============================] - 0s 1ms/step - loss: 53.1533\n",
            "Epoch 79/100\n",
            "26/26 [==============================] - 0s 1ms/step - loss: 53.0474\n",
            "Epoch 80/100\n",
            "26/26 [==============================] - 0s 2ms/step - loss: 48.5397\n",
            "Epoch 81/100\n",
            "26/26 [==============================] - 0s 1ms/step - loss: 50.0830\n",
            "Epoch 82/100\n",
            "26/26 [==============================] - 0s 1ms/step - loss: 46.8214\n",
            "Epoch 83/100\n",
            "26/26 [==============================] - 0s 1ms/step - loss: 51.4487\n",
            "Epoch 84/100\n",
            "26/26 [==============================] - 0s 1ms/step - loss: 46.1424\n",
            "Epoch 85/100\n",
            "26/26 [==============================] - 0s 1ms/step - loss: 46.4339\n",
            "Epoch 86/100\n",
            "26/26 [==============================] - 0s 2ms/step - loss: 49.2611\n",
            "Epoch 87/100\n",
            "26/26 [==============================] - 0s 1ms/step - loss: 46.2850\n",
            "Epoch 88/100\n",
            "26/26 [==============================] - 0s 1ms/step - loss: 41.0674\n",
            "Epoch 89/100\n",
            "26/26 [==============================] - 0s 2ms/step - loss: 42.4587\n",
            "Epoch 90/100\n",
            "26/26 [==============================] - 0s 1ms/step - loss: 43.6271\n",
            "Epoch 91/100\n",
            "26/26 [==============================] - 0s 1ms/step - loss: 41.5379\n",
            "Epoch 92/100\n",
            "26/26 [==============================] - 0s 1ms/step - loss: 45.0575\n",
            "Epoch 93/100\n",
            "26/26 [==============================] - 0s 1ms/step - loss: 43.4119\n",
            "Epoch 94/100\n",
            "26/26 [==============================] - 0s 1ms/step - loss: 44.0537\n",
            "Epoch 95/100\n",
            "26/26 [==============================] - 0s 1ms/step - loss: 39.9765\n",
            "Epoch 96/100\n",
            "26/26 [==============================] - 0s 1ms/step - loss: 39.6143\n",
            "Epoch 97/100\n",
            "26/26 [==============================] - 0s 1ms/step - loss: 43.6557\n",
            "Epoch 98/100\n",
            "26/26 [==============================] - 0s 1ms/step - loss: 40.7356\n",
            "Epoch 99/100\n",
            "26/26 [==============================] - 0s 2ms/step - loss: 41.4335\n",
            "Epoch 100/100\n",
            "26/26 [==============================] - 0s 1ms/step - loss: 48.9886\n"
          ],
          "name": "stdout"
        },
        {
          "output_type": "execute_result",
          "data": {
            "text/plain": [
              "<tensorflow.python.keras.callbacks.History at 0x7f3e4e3adb50>"
            ]
          },
          "metadata": {
            "tags": []
          },
          "execution_count": 32
        }
      ]
    },
    {
      "cell_type": "code",
      "metadata": {
        "colab": {
          "base_uri": "https://localhost:8080/"
        },
        "id": "68Aruz_JEDYs",
        "outputId": "08b553b4-cc3c-4155-90a9-742823fd9053"
      },
      "source": [
        "ypred=reg.predict(xtest)\n",
        "\n",
        "res=np.sqrt(mean_squared_error(ypred,ytest))\n",
        "\n",
        "res"
      ],
      "execution_count": null,
      "outputs": [
        {
          "output_type": "execute_result",
          "data": {
            "text/plain": [
              "7.188248886465212"
            ]
          },
          "metadata": {
            "tags": []
          },
          "execution_count": 33
        }
      ]
    }
  ]
}